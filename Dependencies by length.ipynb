{
 "cells": [
  {
   "cell_type": "code",
   "execution_count": 1,
   "metadata": {
    "collapsed": false
   },
   "outputs": [],
   "source": [
    "%load_ext autoreload\n",
    "%autoreload 2\n",
    "%config IPCompleter.greedy=True\n",
    "import networkx as nx\n",
    "import matplotlib.pyplot as plt\n",
    "from matplotlib import style\n",
    "style.use(style.available[0])\n",
    "import pygal\n",
    "from pygal.style import CleanStyle"
   ]
  },
  {
   "cell_type": "code",
   "execution_count": 2,
   "metadata": {
    "collapsed": false
   },
   "outputs": [],
   "source": [
    "from functions import create_graph_conll, full_analysis, get_args, get_frame, get_pos\n",
    "from dependencies import *\n",
    "from data import Data"
   ]
  },
  {
   "cell_type": "code",
   "execution_count": 3,
   "metadata": {
    "collapsed": false
   },
   "outputs": [],
   "source": [
    "d = Data()"
   ]
  },
  {
   "cell_type": "code",
   "execution_count": 4,
   "metadata": {
    "collapsed": false
   },
   "outputs": [
    {
     "name": "stdout",
     "output_type": "stream",
     "text": [
      "18\n",
      "1 {'frame': 'named:x-c', 'form': 'Pierre', 'pred': True, 'top': False, 'pos': 'NNP', 'lemma': 'Pierre'}\n",
      "2 {'frame': 'named:x-c', 'form': 'Vinken', 'pred': False, 'top': False, 'pos': 'NNP', 'lemma': '_generic_proper_ne_'}\n",
      "3 {'frame': '_', 'form': ',', 'pred': False, 'top': False, 'pos': ',', 'lemma': '_'}\n",
      "4 {'frame': 'card:i-i-c', 'form': '61', 'pred': True, 'top': False, 'pos': 'CD', 'lemma': '_generic_card_ne_'}\n",
      "5 {'frame': 'n:x', 'form': 'years', 'pred': True, 'top': False, 'pos': 'NNS', 'lemma': 'year'}\n",
      "6 {'frame': 'a:e-p', 'form': 'old', 'pred': True, 'top': False, 'pos': 'JJ', 'lemma': 'old'}\n",
      "7 {'frame': '_', 'form': ',', 'pred': False, 'top': False, 'pos': ',', 'lemma': '_'}\n",
      "8 {'frame': '_', 'form': 'will', 'pred': False, 'top': False, 'pos': 'MD', 'lemma': 'will'}\n",
      "9 {'frame': 'v:e-i-p', 'form': 'join', 'pred': True, 'top': True, 'pos': 'VB', 'lemma': 'join'}\n",
      "10 {'frame': 'q:i-h-h', 'form': 'the', 'pred': True, 'top': False, 'pos': 'DT', 'lemma': 'the'}\n",
      "11 {'frame': 'n_of:x-i', 'form': 'board', 'pred': False, 'top': False, 'pos': 'NN', 'lemma': 'board'}\n",
      "12 {'frame': 'p:e-u-i', 'form': 'as', 'pred': True, 'top': False, 'pos': 'IN', 'lemma': 'as'}\n",
      "13 {'frame': 'q:i-h-h', 'form': 'a', 'pred': True, 'top': False, 'pos': 'DT', 'lemma': 'a'}\n",
      "14 {'frame': 'a:e-u', 'form': 'nonexecutive', 'pred': True, 'top': False, 'pos': 'JJ', 'lemma': '_generic_jj_'}\n",
      "15 {'frame': 'n_of:x-i', 'form': 'director', 'pred': False, 'top': False, 'pos': 'NN', 'lemma': 'director'}\n",
      "16 {'frame': 'mofy:x-c', 'form': 'Nov.', 'pred': True, 'top': False, 'pos': 'NNP', 'lemma': 'Nov.'}\n",
      "17 {'frame': 'dofm:x-c', 'form': '29', 'pred': True, 'top': False, 'pos': 'CD', 'lemma': '_generic_dom_card_ne_'}\n",
      "18 {'frame': '_', 'form': '.', 'pred': False, 'top': False, 'pos': '.', 'lemma': '_'}\n"
     ]
    }
   ],
   "source": [
    "graph = 0\n",
    "print(d.dm_training[graph][0].number_of_nodes())\n",
    "for i in d.dm_training[graph][1]:\n",
    "    print(str(i) + ' ' + str(d.dm_training[0][1][i]))"
   ]
  },
  {
   "cell_type": "markdown",
   "metadata": {},
   "source": [
    "# Dependencies by length"
   ]
  },
  {
   "cell_type": "code",
   "execution_count": 5,
   "metadata": {
    "collapsed": false,
    "scrolled": true
   },
   "outputs": [
    {
     "name": "stdout",
     "output_type": "stream",
     "text": [
      "lisbon_dm_open\n",
      "--------------------------------------\n",
      "Type                 precision            recall               f-score             \n",
      "Unlabeled            0.9162              & 0.8946              & 0.9053              \n",
      "Labeled              0.9052              & 0.8839              & 0.8944              \n",
      "\n",
      "lisbon_psd_open\n",
      "--------------------------------------\n",
      "Type                 precision            recall               f-score             \n",
      "Unlabeled            0.9127              & 0.8616              & 0.8864              \n",
      "Labeled              0.7988              & 0.7541              & 0.7758              \n",
      "\n",
      "Dependencies by length\n",
      "Length   &Gold       &Test       &Match      &Precision  &Recall     &F-score   \\\\\n",
      "3        &18913      &18864      &17464      &0.9258     &0.9234     &0.9246    \\\\\n",
      "6        &2648       &2427       &2064       &0.8504     &0.7795     &0.8134    \\\\\n",
      "9        &809        &697        &534        &0.7661     &0.6601     &0.7092    \\\\\n",
      "12       &489        &395        &291        &0.7367     &0.5951     &0.6584    \\\\\n",
      "15       &228        &196        &146        &0.7449     &0.6404     &0.6887    \\\\\n",
      "18       &138        &109        &85         &0.7798     &0.6159     &0.6883    \\\\\n",
      "21       &77         &62         &45         &0.7258     &0.5844     &0.6475    \\\\\n",
      "24       &45         &41         &24         &0.5854     &0.5333     &0.5581    \\\\\n",
      "27       &29         &16         &11         &0.6875     &0.3793     &0.4889    \\\\\n",
      "30       &17         &12         &10         &0.8333     &0.5882     &0.6897    \\\\\n",
      "33       &4          &2          &1          &0.5000     &0.2500     &0.3333    \\\\\n",
      "36       &3          &1          &1          &1.0000     &0.3333     &0.5000    \\\\\n",
      "39       &4          &1          &0          &0.0000     &0.0000     &0.0000    \\\\\n",
      "45       &2          &0          &0          &0.0000     &0.0000     &0.0000    \\\\\n",
      "Longest dependency in gold: 44\n",
      "Longest dependency in test: 38\n",
      "\n",
      "Dependencies by length\n",
      "Length   &Gold       &Test       &Match      &Precision  &Recall     &F-score   \\\\\n",
      "3        &14742      &14581      &11800      &0.8093     &0.8004     &0.8048    \\\\\n",
      "6        &3329       &2902       &2130       &0.7340     &0.6398     &0.6837    \\\\\n",
      "9        &1198       &896        &640        &0.7143     &0.5342     &0.6113    \\\\\n",
      "12       &661        &497        &345        &0.6942     &0.5219     &0.5959    \\\\\n",
      "15       &324        &262        &183        &0.6985     &0.5648     &0.6246    \\\\\n",
      "18       &180        &140        &93         &0.6643     &0.5167     &0.5813    \\\\\n",
      "21       &103        &76         &59         &0.7763     &0.5728     &0.6592    \\\\\n",
      "24       &62         &43         &32         &0.7442     &0.5161     &0.6095    \\\\\n",
      "27       &28         &11         &8          &0.7273     &0.2857     &0.4103    \\\\\n",
      "30       &11         &12         &7          &0.5833     &0.6364     &0.6087    \\\\\n",
      "33       &8          &3          &1          &0.3333     &0.1250     &0.1818    \\\\\n",
      "36       &4          &0          &0          &0.0000     &0.0000     &0.0000    \\\\\n",
      "39       &3          &3          &2          &0.6667     &0.6667     &0.6667    \\\\\n",
      "Longest dependency in gold: 38\n",
      "Longest dependency in test: 39\n",
      "\n"
     ]
    }
   ],
   "source": [
    "full_analysis(d.dm, d.lisbon_dm_open, 'lisbon_dm_open')\n",
    "full_analysis(d.psd, d.lisbon_psd_open, 'lisbon_psd_open')\n",
    "lisbon_plot1 = dependencies_by_length(d.dm, d.lisbon_dm_open)\n",
    "lisbon_plot2 = dependencies_by_length(d.psd, d.lisbon_psd_open)"
   ]
  },
  {
   "cell_type": "code",
   "execution_count": 6,
   "metadata": {
    "collapsed": false,
    "scrolled": true
   },
   "outputs": [
    {
     "name": "stdout",
     "output_type": "stream",
     "text": [
      "peking_dm_closed_2\n",
      "--------------------------------------\n",
      "Type                 precision            recall               f-score             \n",
      "Unlabeled            0.9238              & 0.8871              & 0.9051              \n",
      "Labeled              0.9093              & 0.8732              & 0.8909              \n",
      "\n",
      "peking_psd_closed_2\n",
      "--------------------------------------\n",
      "Type                 precision            recall               f-score             \n",
      "Unlabeled            0.9211              & 0.8547              & 0.8867              \n",
      "Labeled              0.7860              & 0.7293              & 0.7566              \n",
      "\n",
      "Dependencies by length\n",
      "Length   &Gold       &Test       &Match      &Precision  &Recall     &F-score   \\\\\n",
      "3        &18913      &18874      &17523      &0.9284     &0.9265     &0.9275    \\\\\n",
      "6        &2648       &2264       &1916       &0.8463     &0.7236     &0.7801    \\\\\n",
      "9        &809        &646        &481        &0.7446     &0.5946     &0.6612    \\\\\n",
      "12       &489        &335        &248        &0.7403     &0.5072     &0.6019    \\\\\n",
      "15       &228        &151        &110        &0.7285     &0.4825     &0.5805    \\\\\n",
      "18       &138        &88         &67         &0.7614     &0.4855     &0.5929    \\\\\n",
      "21       &77         &41         &30         &0.7317     &0.3896     &0.5085    \\\\\n",
      "24       &45         &15         &13         &0.8667     &0.2889     &0.4333    \\\\\n",
      "27       &29         &14         &13         &0.9286     &0.4483     &0.6047    \\\\\n",
      "30       &17         &9          &8          &0.8889     &0.4706     &0.6154    \\\\\n",
      "33       &4          &0          &0          &0.0000     &0.0000     &0.0000    \\\\\n",
      "36       &3          &2          &2          &1.0000     &0.6667     &0.8000    \\\\\n",
      "39       &4          &2          &0          &0.0000     &0.0000     &0.0000    \\\\\n",
      "45       &2          &1          &1          &1.0000     &0.5000     &0.6667    \\\\\n",
      "Longest dependency in gold: 44\n",
      "Longest dependency in test: 43\n",
      "\n",
      "Dependencies by length\n",
      "Length   &Gold       &Test       &Match      &Precision  &Recall     &F-score   \\\\\n",
      "3        &14742      &14599      &11755      &0.8052     &0.7974     &0.8013    \\\\\n",
      "6        &3329       &2820       &1898       &0.6730     &0.5701     &0.6173    \\\\\n",
      "9        &1198       &857        &548        &0.6394     &0.4574     &0.5333    \\\\\n",
      "12       &661        &427        &263        &0.6159     &0.3979     &0.4835    \\\\\n",
      "15       &324        &194        &145        &0.7474     &0.4475     &0.5598    \\\\\n",
      "18       &180        &104        &72         &0.6923     &0.4000     &0.5070    \\\\\n",
      "21       &103        &51         &38         &0.7451     &0.3689     &0.4935    \\\\\n",
      "24       &62         &34         &21         &0.6176     &0.3387     &0.4375    \\\\\n",
      "27       &28         &9          &6          &0.6667     &0.2143     &0.3243    \\\\\n",
      "30       &11         &5          &4          &0.8000     &0.3636     &0.5000    \\\\\n",
      "33       &8          &2          &1          &0.5000     &0.1250     &0.2000    \\\\\n",
      "36       &4          &2          &2          &1.0000     &0.5000     &0.6667    \\\\\n",
      "39       &3          &3          &3          &1.0000     &1.0000     &1.0000    \\\\\n",
      "Longest dependency in gold: 38\n",
      "Longest dependency in test: 38\n",
      "\n"
     ]
    }
   ],
   "source": [
    "full_analysis(d.dm, d.peking_dm_closed_2, 'peking_dm_closed_2')\n",
    "full_analysis(d.psd, d.peking_psd_closed_2, 'peking_psd_closed_2')\n",
    "peking_plot1 = dependencies_by_length(d.dm, d.peking_dm_closed_2)\n",
    "peking_plot2 = dependencies_by_length(d.psd, d.peking_psd_closed_2)"
   ]
  },
  {
   "cell_type": "code",
   "execution_count": 7,
   "metadata": {
    "collapsed": false,
    "scrolled": true
   },
   "outputs": [
    {
     "name": "stdout",
     "output_type": "stream",
     "text": [
      "turku_dm_open\n",
      "--------------------------------------\n",
      "Type                 precision            recall               f-score             \n",
      "Unlabeled            0.8973              & 0.8646              & 0.8806              \n",
      "Labeled              0.8780              & 0.8460              & 0.8617              \n",
      "\n",
      "turku_psd_open\n",
      "--------------------------------------\n",
      "Type                 precision            recall               f-score             \n",
      "Unlabeled            0.8934              & 0.8373              & 0.8644              \n",
      "Labeled              0.7610              & 0.7132              & 0.7363              \n",
      "\n",
      "Dependencies by length\n",
      "Length   &Gold       &Test       &Match      &Precision  &Recall     &F-score   \\\\\n",
      "3        &18913      &18701      &16950      &0.9064     &0.8962     &0.9013    \\\\\n",
      "6        &2648       &2324       &1839       &0.7913     &0.6945     &0.7397    \\\\\n",
      "9        &809        &652        &460        &0.7055     &0.5686     &0.6297    \\\\\n",
      "12       &489        &384        &260        &0.6771     &0.5317     &0.5956    \\\\\n",
      "15       &228        &191        &128        &0.6702     &0.5614     &0.6110    \\\\\n",
      "18       &138        &106        &69         &0.6509     &0.5000     &0.5656    \\\\\n",
      "21       &77         &65         &38         &0.5846     &0.4935     &0.5352    \\\\\n",
      "24       &45         &31         &18         &0.5806     &0.4000     &0.4737    \\\\\n",
      "27       &29         &13         &9          &0.6923     &0.3103     &0.4286    \\\\\n",
      "30       &17         &13         &9          &0.6923     &0.5294     &0.6000    \\\\\n",
      "33       &4          &4          &1          &0.2500     &0.2500     &0.2500    \\\\\n",
      "36       &3          &5          &2          &0.4000     &0.6667     &0.5000    \\\\\n",
      "39       &4          &5          &1          &0.2000     &0.2500     &0.2222    \\\\\n",
      "45       &2          &2          &1          &0.5000     &0.5000     &0.5000    \\\\\n",
      "Longest dependency in gold: 44\n",
      "Longest dependency in test: 44\n",
      "\n",
      "Dependencies by length\n",
      "Length   &Gold       &Test       &Match      &Precision  &Recall     &F-score   \\\\\n",
      "3        &14742      &14316      &11356      &0.7932     &0.7703     &0.7816    \\\\\n",
      "6        &3329       &2707       &1845       &0.6816     &0.5542     &0.6113    \\\\\n",
      "9        &1198       &815        &567        &0.6957     &0.4733     &0.5633    \\\\\n",
      "12       &661        &427        &274        &0.6417     &0.4145     &0.5037    \\\\\n",
      "15       &324        &202        &139        &0.6881     &0.4290     &0.5285    \\\\\n",
      "18       &180        &110        &76         &0.6909     &0.4222     &0.5241    \\\\\n",
      "21       &103        &65         &45         &0.6923     &0.4369     &0.5357    \\\\\n",
      "24       &62         &35         &24         &0.6857     &0.3871     &0.4948    \\\\\n",
      "27       &28         &9          &7          &0.7778     &0.2500     &0.3784    \\\\\n",
      "30       &11         &11         &7          &0.6364     &0.6364     &0.6364    \\\\\n",
      "33       &8          &3          &1          &0.3333     &0.1250     &0.1818    \\\\\n",
      "36       &4          &1          &1          &1.0000     &0.2500     &0.4000    \\\\\n",
      "39       &3          &4          &3          &0.7500     &1.0000     &0.8571    \\\\\n",
      "Longest dependency in gold: 38\n",
      "Longest dependency in test: 39\n",
      "\n"
     ]
    }
   ],
   "source": [
    "full_analysis(d.dm, d.turku_dm_open, 'turku_dm_open')\n",
    "full_analysis(d.psd, d.turku_psd_open, 'turku_psd_open')\n",
    "turku_plot1 = dependencies_by_length(d.dm, d.turku_dm_open)\n",
    "turku_plot2 = dependencies_by_length(d.psd, d.turku_psd_open)"
   ]
  },
  {
   "cell_type": "code",
   "execution_count": 8,
   "metadata": {
    "collapsed": false
   },
   "outputs": [],
   "source": [
    "def graf_lengths(data, f, to, name):\n",
    "    chart = pygal.Bar(legend_at_bottom=True, \n",
    "                       legend_at_bottom_columns=3, \n",
    "                       x_label_rotation=30,\n",
    "                       style=CleanStyle,\n",
    "                       logarithmic=True)\n",
    "    chart.x_labels = data[0][f:to]\n",
    "#     chart.title = name.replace('_', ' ')\n",
    "    \n",
    "    chart.add('Gold', data[1][f:to])\n",
    "    chart.add('Predicted', data[2][f:to])\n",
    "    chart.add('Match', data[3][f:to])\n",
    "    \n",
    "    chart.render_to_file('plots/length/{}_dep_lengths.svg'.format(name.replace('_', ' ')))"
   ]
  },
  {
   "cell_type": "code",
   "execution_count": 9,
   "metadata": {
    "collapsed": false
   },
   "outputs": [],
   "source": [
    "graf_lengths(lisbon_plot1, 0, 22, 'Lisbon_DM')\n",
    "graf_lengths(lisbon_plot2, 0, 22, 'Lisbon_PSD')\n",
    "\n",
    "graf_lengths(peking_plot1, 0, 22, 'Peking_DM')\n",
    "graf_lengths(peking_plot2, 0, 22, 'Peking_PSD')\n",
    "\n",
    "graf_lengths(turku_plot1, 0, 22, 'Turku_DM')\n",
    "graf_lengths(turku_plot2, 0, 22, 'Turku_PSD')"
   ]
  },
  {
   "cell_type": "code",
   "execution_count": 10,
   "metadata": {
    "collapsed": false
   },
   "outputs": [],
   "source": [
    "def graf_lengths_p_r_f(data, f, to, name, parsers, p_r_f):\n",
    "    chart = pygal.Line(legend_at_bottom=True, \n",
    "                       legend_at_bottom_columns=3,\n",
    "                       style=CleanStyle)\n",
    "    \n",
    "    chart.x_labels = ['<3', '<6', '<9', '<12', '<15', '<18', '<21', '<24']\n",
    "    name_p_r_f = {'p': 'Precision', 'r': 'Recall', 'f': 'F-score'}\n",
    "#     chart.title = '{} {}'.format(name.replace('_', ' '), name_p_r_f[p_r_f])\n",
    "    \n",
    "    for i in range(3):\n",
    "        if p_r_f == 'p':\n",
    "            chart.add('{}'.format(parsers[i]), data[i][4][f:to])\n",
    "        elif p_r_f == 'r':\n",
    "            chart.add('{}'.format(parsers[i]), data[i][5][f:to])\n",
    "        elif p_r_f == 'f':\n",
    "            chart.add('{}'.format(parsers[i]), data[i][6][f:to])\n",
    "    \n",
    "    chart.render_to_file('plots/length/{}_{}.svg'.format(name, name_p_r_f[p_r_f]))"
   ]
  },
  {
   "cell_type": "code",
   "execution_count": 11,
   "metadata": {
    "collapsed": false
   },
   "outputs": [],
   "source": [
    "to = 8\n",
    "graf_lengths_p_r_f((lisbon_plot1, peking_plot1, turku_plot1), 0, to, 'Comparison_of_DM', ('Lisbon', 'Peking', 'Turku'), 'p')\n",
    "graf_lengths_p_r_f((lisbon_plot1, peking_plot1, turku_plot1), 0, to, 'Comparison_of_DM', ('Lisbon', 'Peking', 'Turku'), 'r')\n",
    "graf_lengths_p_r_f((lisbon_plot1, peking_plot1, turku_plot1), 0, to, 'Comparison_of_DM', ('Lisbon', 'Peking', 'Turku'), 'f')\n",
    "\n",
    "graf_lengths_p_r_f((lisbon_plot2, peking_plot2, turku_plot2), 0, to, 'Comparison_of_PSD', ('Lisbon', 'Peking', 'Turku'), 'p')\n",
    "graf_lengths_p_r_f((lisbon_plot2, peking_plot2, turku_plot2), 0, to, 'Comparison_of_PSD', ('Lisbon', 'Peking', 'Turku'), 'r')\n",
    "graf_lengths_p_r_f((lisbon_plot2, peking_plot2, turku_plot2), 0, to, 'Comparison_of_PSD', ('Lisbon', 'Peking', 'Turku'), 'f')"
   ]
  },
  {
   "cell_type": "markdown",
   "metadata": {},
   "source": [
    "# Sentence length"
   ]
  },
  {
   "cell_type": "code",
   "execution_count": 12,
   "metadata": {
    "collapsed": false,
    "scrolled": false
   },
   "outputs": [],
   "source": [
    "def sentence_lengths_graph(data_dm, name, to=30):\n",
    "    to = to + 1\n",
    "    chart = pygal.Line(fill=True, \n",
    "                       show_legend=False, \n",
    "                       x_title='Sentence length', \n",
    "                       y_title='Frequency', \n",
    "                       style=CleanStyle,\n",
    "                       x_labels_major_every=2, \n",
    "                       show_minor_x_labels=False,\n",
    "                       range=(0, max(data_dm) * 1.1))\n",
    "    \n",
    "    chart.x_labels = [a for a, b in enumerate(data_dm)][:to]\n",
    "#     chart.title = 'Sentence lengths'\n",
    "    \n",
    "    chart.add('', data_dm[:to])\n",
    "    \n",
    "    chart.render_to_file('plots/length/sentence_lengths_{0}.svg'.format(name))"
   ]
  },
  {
   "cell_type": "code",
   "execution_count": 13,
   "metadata": {
    "collapsed": false
   },
   "outputs": [
    {
     "name": "stdout",
     "output_type": "stream",
     "text": [
      "22.512816917208884\n",
      "22.658156028368793\n"
     ]
    }
   ],
   "source": [
    "lengths_dm = sentence_lengths(d.dm_training)\n",
    "length_dm_testing = sentence_lengths(d.dm)\n",
    "print(lengths_dm[1])\n",
    "print(length_dm_testing[1])\n",
    "sentence_lengths_graph(lengths_dm[0], 'training', 50)\n",
    "sentence_lengths_graph(length_dm_testing[0], 'testing', 50)"
   ]
  },
  {
   "cell_type": "code",
   "execution_count": 14,
   "metadata": {
    "collapsed": false
   },
   "outputs": [],
   "source": [
    "def sentence_length_p_r(sentences1, sentences2, sentences3, name, n, f, t):\n",
    "    chart = pygal.Line(show_legend=True, \n",
    "                       x_title='Sentence length', \n",
    "                       y_title='precision' if n == 0 else 'recall', \n",
    "                       style=CleanStyle, \n",
    "                       range=(f, t))\n",
    "    \n",
    "    chart.x_labels = ['<10', '11-20', '21-30', '31-40', '>50']\n",
    "    chart.add('Lisbon', [a[n] for a in sentences1])\n",
    "    chart.add('Peking', [a[n] for a in sentences2])\n",
    "    chart.add('Turku', [a[n] for a in sentences3])\n",
    "    \n",
    "    chart.render_to_file('plots/length/{0}.svg'.format(name))"
   ]
  },
  {
   "cell_type": "code",
   "execution_count": 34,
   "metadata": {
    "collapsed": false,
    "scrolled": false
   },
   "outputs": [
    {
     "name": "stdout",
     "output_type": "stream",
     "text": [
      "240\n",
      "240\n",
      "240\n"
     ]
    }
   ],
   "source": [
    "lisbon_dm_closed = dependencies_by_sentence_length(d.dm, d.lisbon_dm_closed)\n",
    "peking_dm_closed = dependencies_by_sentence_length(d.dm, d.peking_dm_closed)\n",
    "turku_dm_open = dependencies_by_sentence_length(d.dm, d.turku_dm_open)"
   ]
  },
  {
   "cell_type": "code",
   "execution_count": 29,
   "metadata": {
    "collapsed": false
   },
   "outputs": [],
   "source": [
    "sentence_length_p_r(lisbon_dm_closed, peking_dm_closed, turku_dm_open, 'sentence_dm_precision', 0, 0.82, 0.92)"
   ]
  },
  {
   "cell_type": "code",
   "execution_count": 30,
   "metadata": {
    "collapsed": true
   },
   "outputs": [],
   "source": [
    "sentence_length_p_r(lisbon_dm_closed, peking_dm_closed, turku_dm_open, 'sentence_dm_recall', 1, 0.82, 0.92)"
   ]
  },
  {
   "cell_type": "code",
   "execution_count": 25,
   "metadata": {
    "collapsed": true
   },
   "outputs": [],
   "source": [
    "lisbon_psd_closed = dependencies_by_sentence_length(d.psd, d.lisbon_psd_closed)\n",
    "peking_psd_closed = dependencies_by_sentence_length(d.psd, d.peking_psd_closed)\n",
    "turku_psd_open = dependencies_by_sentence_length(d.psd, d.turku_psd_open)"
   ]
  },
  {
   "cell_type": "code",
   "execution_count": 26,
   "metadata": {
    "collapsed": false
   },
   "outputs": [],
   "source": [
    "sentence_length_p_r(lisbon_psd_closed, peking_psd_closed, turku_psd_open, 'sentence_psd_precision', 0, 0.66, 0.84)"
   ]
  },
  {
   "cell_type": "code",
   "execution_count": 27,
   "metadata": {
    "collapsed": true
   },
   "outputs": [],
   "source": [
    "sentence_length_p_r(lisbon_psd_closed, peking_psd_closed, turku_psd_open, 'sentence_psd_recall', 1, 0.66, 0.84)"
   ]
  },
  {
   "cell_type": "code",
   "execution_count": 28,
   "metadata": {
    "collapsed": false
   },
   "outputs": [
    {
     "name": "stdout",
     "output_type": "stream",
     "text": [
      "[[0.9121287128712872, 0.8965936739659367, 0.9042944785276072], [0.9069552349241583, 0.874910778015703, 0.890644868301544], [0.9005994550408719, 0.8716244725738397, 0.8858751005092468], [0.8875103391232424, 0.8506421436499128, 0.8686852331606217], [0.8930252460419341, 0.858141447368421, 0.8752358985112183]]\n"
     ]
    }
   ],
   "source": [
    "print(lisbon_dm_closed)"
   ]
  }
 ],
 "metadata": {
  "anaconda-cloud": {},
  "kernelspec": {
   "display_name": "ml",
   "language": "python",
   "name": "ml"
  },
  "language_info": {
   "codemirror_mode": {
    "name": "ipython",
    "version": 3
   },
   "file_extension": ".py",
   "mimetype": "text/x-python",
   "name": "python",
   "nbconvert_exporter": "python",
   "pygments_lexer": "ipython3",
   "version": "3.5.2"
  }
 },
 "nbformat": 4,
 "nbformat_minor": 0
}
