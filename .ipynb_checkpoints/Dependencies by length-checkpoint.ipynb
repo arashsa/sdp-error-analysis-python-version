{
 "cells": [
  {
   "cell_type": "code",
   "execution_count": 49,
   "metadata": {
    "collapsed": false
   },
   "outputs": [
    {
     "name": "stdout",
     "output_type": "stream",
     "text": [
      "The autoreload extension is already loaded. To reload it, use:\n",
      "  %reload_ext autoreload\n"
     ]
    }
   ],
   "source": [
    "%load_ext autoreload\n",
    "%autoreload 2\n",
    "%config IPCompleter.greedy=True\n",
    "import networkx as nx\n",
    "import matplotlib.pyplot as plt\n",
    "from matplotlib import style\n",
    "style.use(style.available[0])\n",
    "import pygal\n",
    "from pygal.style import CleanStyle"
   ]
  },
  {
   "cell_type": "code",
   "execution_count": 32,
   "metadata": {
    "collapsed": false
   },
   "outputs": [],
   "source": [
    "from functions import create_graph_conll, full_analysis, get_args, get_frame, get_pos\n",
    "from dependencies import *\n",
    "from data import Data"
   ]
  },
  {
   "cell_type": "code",
   "execution_count": 3,
   "metadata": {
    "collapsed": false
   },
   "outputs": [],
   "source": [
    "d = Data()"
   ]
  },
  {
   "cell_type": "code",
   "execution_count": 27,
   "metadata": {
    "collapsed": false
   },
   "outputs": [
    {
     "name": "stdout",
     "output_type": "stream",
     "text": [
      "18\n",
      "1 {'pred': True, 'form': 'Pierre', 'lemma': 'Pierre', 'pos': 'NNP', 'frame': 'named:x-c', 'top': False}\n",
      "2 {'pred': False, 'form': 'Vinken', 'lemma': '_generic_proper_ne_', 'pos': 'NNP', 'frame': 'named:x-c', 'top': False}\n",
      "3 {'pred': False, 'form': ',', 'lemma': '_', 'pos': ',', 'frame': '_', 'top': False}\n",
      "4 {'pred': True, 'form': '61', 'lemma': '_generic_card_ne_', 'pos': 'CD', 'frame': 'card:i-i-c', 'top': False}\n",
      "5 {'pred': True, 'form': 'years', 'lemma': 'year', 'pos': 'NNS', 'frame': 'n:x', 'top': False}\n",
      "6 {'pred': True, 'form': 'old', 'lemma': 'old', 'pos': 'JJ', 'frame': 'a:e-p', 'top': False}\n",
      "7 {'pred': False, 'form': ',', 'lemma': '_', 'pos': ',', 'frame': '_', 'top': False}\n",
      "8 {'pred': False, 'form': 'will', 'lemma': 'will', 'pos': 'MD', 'frame': '_', 'top': False}\n",
      "9 {'pred': True, 'form': 'join', 'lemma': 'join', 'pos': 'VB', 'frame': 'v:e-i-p', 'top': True}\n",
      "10 {'pred': True, 'form': 'the', 'lemma': 'the', 'pos': 'DT', 'frame': 'q:i-h-h', 'top': False}\n",
      "11 {'pred': False, 'form': 'board', 'lemma': 'board', 'pos': 'NN', 'frame': 'n_of:x-i', 'top': False}\n",
      "12 {'pred': True, 'form': 'as', 'lemma': 'as', 'pos': 'IN', 'frame': 'p:e-u-i', 'top': False}\n",
      "13 {'pred': True, 'form': 'a', 'lemma': 'a', 'pos': 'DT', 'frame': 'q:i-h-h', 'top': False}\n",
      "14 {'pred': True, 'form': 'nonexecutive', 'lemma': '_generic_jj_', 'pos': 'JJ', 'frame': 'a:e-u', 'top': False}\n",
      "15 {'pred': False, 'form': 'director', 'lemma': 'director', 'pos': 'NN', 'frame': 'n_of:x-i', 'top': False}\n",
      "16 {'pred': True, 'form': 'Nov.', 'lemma': 'Nov.', 'pos': 'NNP', 'frame': 'mofy:x-c', 'top': False}\n",
      "17 {'pred': True, 'form': '29', 'lemma': '_generic_dom_card_ne_', 'pos': 'CD', 'frame': 'dofm:x-c', 'top': False}\n",
      "18 {'pred': False, 'form': '.', 'lemma': '_', 'pos': '.', 'frame': '_', 'top': False}\n"
     ]
    }
   ],
   "source": [
    "graph = 0\n",
    "print(d.dm_training[graph][0].number_of_nodes())\n",
    "for i in d.dm_training[graph][1]:\n",
    "    print(str(i) + ' ' + str(d.dm_training[0][1][i]))"
   ]
  },
  {
   "cell_type": "markdown",
   "metadata": {},
   "source": [
    "# Dependencies by length"
   ]
  },
  {
   "cell_type": "code",
   "execution_count": 18,
   "metadata": {
    "collapsed": false,
    "scrolled": true
   },
   "outputs": [
    {
     "name": "stdout",
     "output_type": "stream",
     "text": [
      "lisbon_dm_open\n",
      "--------------------------------------\n",
      "Type                 precision            recall               f-score             \n",
      "Unlabeled            0.9162              & 0.8946              & 0.9053              \n",
      "Labeled              0.9052              & 0.8839              & 0.8944              \n",
      "\n",
      "lisbon_psd_open\n",
      "--------------------------------------\n",
      "Type                 precision            recall               f-score             \n",
      "Unlabeled            0.9127              & 0.8616              & 0.8864              \n",
      "Labeled              0.7988              & 0.7541              & 0.7758              \n",
      "\n",
      "Dependencies by length\n",
      "Length   &Gold       &Test       &Match      &Precision  &Recall     &F-score   \\\\\n",
      "-1       &1407       &1405       &1255       &0.8932     &0.8920     &0.8926    \\\\\n",
      "0        &10735      &10799      &10086      &0.9340     &0.9395     &0.9368    \\\\\n",
      "1        &5410       &5350       &4959       &0.9269     &0.9166     &0.9217    \\\\\n",
      "2        &2768       &2715       &2419       &0.8910     &0.8739     &0.8824    \\\\\n",
      "3        &1312       &1233       &1069       &0.8670     &0.8148     &0.8401    \\\\\n",
      "4        &797        &718        &602        &0.8384     &0.7553     &0.7947    \\\\\n",
      "5        &539        &476        &393        &0.8256     &0.7291     &0.7744    \\\\\n",
      "6        &323        &293        &217        &0.7406     &0.6718     &0.7045    \\\\\n",
      "7        &285        &224        &179        &0.7991     &0.6281     &0.7033    \\\\\n",
      "8        &201        &180        &138        &0.7667     &0.6866     &0.7244    \\\\\n",
      "9        &195        &157        &120        &0.7643     &0.6154     &0.6818    \\\\\n",
      "10       &157        &124        &93         &0.7500     &0.5924     &0.6619    \\\\\n",
      "11       &137        &114        &78         &0.6842     &0.5693     &0.6215    \\\\\n",
      "12       &90         &75         &56         &0.7467     &0.6222     &0.6788    \\\\\n",
      "13       &85         &71         &57         &0.8028     &0.6706     &0.7308    \\\\\n",
      "14       &53         &50         &33         &0.6600     &0.6226     &0.6408    \\\\\n",
      "15       &57         &46         &36         &0.7826     &0.6316     &0.6990    \\\\\n",
      "16       &49         &39         &32         &0.8205     &0.6531     &0.7273    \\\\\n",
      "17       &32         &24         &17         &0.7083     &0.5312     &0.6071    \\\\\n",
      "18       &24         &20         &14         &0.7000     &0.5833     &0.6364    \\\\\n",
      "19       &25         &15         &11         &0.7333     &0.4400     &0.5500    \\\\\n",
      "20       &28         &27         &20         &0.7407     &0.7143     &0.7273    \\\\\n",
      "21       &15         &20         &10         &0.5000     &0.6667     &0.5714    \\\\\n",
      "22       &16         &12         &6          &0.5000     &0.3750     &0.4286    \\\\\n",
      "23       &14         &9          &8          &0.8889     &0.5714     &0.6957    \\\\\n",
      "24       &10         &7          &6          &0.8571     &0.6000     &0.7059    \\\\\n",
      "25       &12         &7          &4          &0.5714     &0.3333     &0.4211    \\\\\n",
      "26       &7          &2          &1          &0.5000     &0.1429     &0.2222    \\\\\n",
      "27       &6          &4          &3          &0.7500     &0.5000     &0.6000    \\\\\n",
      "28       &6          &4          &3          &0.7500     &0.5000     &0.6000    \\\\\n",
      "29       &5          &4          &4          &1.0000     &0.8000     &0.8889    \\\\\n",
      "30       &3          &1          &1          &1.0000     &0.3333     &0.5000    \\\\\n",
      "31       &1          &1          &0          &0.0000     &0.0000     &0.0000    \\\\\n",
      "33       &1          &0          &0          &0.0000     &0.0000     &0.0000    \\\\\n",
      "34       &2          &1          &1          &1.0000     &0.5000     &0.6667    \\\\\n",
      "36       &1          &0          &0          &0.0000     &0.0000     &0.0000    \\\\\n",
      "37       &3          &1          &0          &0.0000     &0.0000     &0.0000    \\\\\n",
      "42       &1          &0          &0          &0.0000     &0.0000     &0.0000    \\\\\n",
      "43       &1          &0          &0          &0.0000     &0.0000     &0.0000    \\\\\n",
      "Longest dependency in gold: 44\n",
      "Longest dependency in test: 38\n",
      "\n",
      "Dependencies by length\n",
      "Length   &Gold       &Test       &Match      &Precision  &Recall     &F-score   \\\\\n",
      "-1       &1605       &1586       &1484       &0.9357     &0.9246     &0.9301    \\\\\n",
      "0        &8029       &8138       &6651       &0.8173     &0.8284     &0.8228    \\\\\n",
      "1        &4212       &4028       &3290       &0.8168     &0.7811     &0.7985    \\\\\n",
      "2        &2501       &2415       &1859       &0.7698     &0.7433     &0.7563    \\\\\n",
      "3        &1557       &1449       &1077       &0.7433     &0.6917     &0.7166    \\\\\n",
      "4        &1020       &883        &638        &0.7225     &0.6255     &0.6705    \\\\\n",
      "5        &752        &570        &415        &0.7281     &0.5519     &0.6278    \\\\\n",
      "6        &482        &359        &255        &0.7103     &0.5290     &0.6064    \\\\\n",
      "7        &406        &302        &225        &0.7450     &0.5542     &0.6356    \\\\\n",
      "8        &310        &235        &160        &0.6809     &0.5161     &0.5872    \\\\\n",
      "9        &268        &200        &131        &0.6550     &0.4888     &0.5598    \\\\\n",
      "10       &207        &156        &112        &0.7179     &0.5411     &0.6171    \\\\\n",
      "11       &186        &141        &102        &0.7234     &0.5484     &0.6239    \\\\\n",
      "12       &133        &104        &76         &0.7308     &0.5714     &0.6414    \\\\\n",
      "13       &100        &87         &57         &0.6552     &0.5700     &0.6096    \\\\\n",
      "14       &91         &71         &50         &0.7042     &0.5495     &0.6173    \\\\\n",
      "15       &80         &63         &43         &0.6825     &0.5375     &0.6014    \\\\\n",
      "16       &59         &42         &29         &0.6905     &0.4915     &0.5743    \\\\\n",
      "17       &41         &35         &21         &0.6000     &0.5122     &0.5526    \\\\\n",
      "18       &38         &27         &20         &0.7407     &0.5263     &0.6154    \\\\\n",
      "19       &36         &25         &20         &0.8000     &0.5556     &0.6557    \\\\\n",
      "20       &29         &24         &19         &0.7917     &0.6552     &0.7170    \\\\\n",
      "21       &19         &13         &9          &0.6923     &0.4737     &0.5625    \\\\\n",
      "22       &21         &14         &10         &0.7143     &0.4762     &0.5714    \\\\\n",
      "23       &22         &16         &13         &0.8125     &0.5909     &0.6842    \\\\\n",
      "24       &13         &5          &4          &0.8000     &0.3077     &0.4444    \\\\\n",
      "25       &10         &4          &3          &0.7500     &0.3000     &0.4286    \\\\\n",
      "26       &5          &2          &1          &0.5000     &0.2000     &0.2857    \\\\\n",
      "27       &4          &4          &2          &0.5000     &0.5000     &0.5000    \\\\\n",
      "28       &4          &3          &2          &0.6667     &0.5000     &0.5714    \\\\\n",
      "29       &3          &5          &3          &0.6000     &1.0000     &0.7500    \\\\\n",
      "30       &4          &0          &0          &0.0000     &0.0000     &0.0000    \\\\\n",
      "31       &4          &1          &1          &1.0000     &0.2500     &0.4000    \\\\\n",
      "33       &1          &0          &0          &0.0000     &0.0000     &0.0000    \\\\\n",
      "34       &2          &0          &0          &0.0000     &0.0000     &0.0000    \\\\\n",
      "35       &1          &0          &0          &0.0000     &0.0000     &0.0000    \\\\\n",
      "36       &1          &0          &0          &0.0000     &0.0000     &0.0000    \\\\\n",
      "37       &2          &2          &2          &1.0000     &1.0000     &1.0000    \\\\\n",
      "Longest dependency in gold: 38\n",
      "Longest dependency in test: 39\n",
      "\n"
     ]
    }
   ],
   "source": [
    "full_analysis(d.dm, d.lisbon_dm_open, 'lisbon_dm_open')\n",
    "full_analysis(d.psd, d.lisbon_psd_open, 'lisbon_psd_open')\n",
    "lisbon_plot1 = dependencies_by_length(d.dm, d.lisbon_dm_open)\n",
    "lisbon_plot2 = dependencies_by_length(d.psd, d.lisbon_psd_open)"
   ]
  },
  {
   "cell_type": "code",
   "execution_count": 19,
   "metadata": {
    "collapsed": false,
    "scrolled": true
   },
   "outputs": [
    {
     "name": "stdout",
     "output_type": "stream",
     "text": [
      "peking_dm_closed_2\n",
      "--------------------------------------\n",
      "Type                 precision            recall               f-score             \n",
      "Unlabeled            0.9238              & 0.8871              & 0.9051              \n",
      "Labeled              0.9093              & 0.8732              & 0.8909              \n",
      "\n",
      "peking_psd_closed_2\n",
      "--------------------------------------\n",
      "Type                 precision            recall               f-score             \n",
      "Unlabeled            0.9211              & 0.8547              & 0.8867              \n",
      "Labeled              0.7860              & 0.7293              & 0.7566              \n",
      "\n",
      "Dependencies by length\n",
      "Length   &Gold       &Test       &Match      &Precision  &Recall     &F-score   \\\\\n",
      "-1       &1407       &1385       &1255       &0.9061     &0.8920     &0.8990    \\\\\n",
      "0        &10735      &10838      &10149      &0.9364     &0.9454     &0.9409    \\\\\n",
      "1        &5410       &5371       &4991       &0.9292     &0.9226     &0.9259    \\\\\n",
      "2        &2768       &2665       &2383       &0.8942     &0.8609     &0.8772    \\\\\n",
      "3        &1312       &1169       &1012       &0.8657     &0.7713     &0.8158    \\\\\n",
      "4        &797        &686        &567        &0.8265     &0.7114     &0.7647    \\\\\n",
      "5        &539        &409        &337        &0.8240     &0.6252     &0.7110    \\\\\n",
      "6        &323        &268        &201        &0.7500     &0.6223     &0.6802    \\\\\n",
      "7        &285        &219        &170        &0.7763     &0.5965     &0.6746    \\\\\n",
      "8        &201        &159        &110        &0.6918     &0.5473     &0.6111    \\\\\n",
      "9        &195        &144        &108        &0.7500     &0.5538     &0.6372    \\\\\n",
      "10       &157        &99         &74         &0.7475     &0.4713     &0.5781    \\\\\n",
      "11       &137        &92         &66         &0.7174     &0.4818     &0.5764    \\\\\n",
      "12       &90         &55         &39         &0.7091     &0.4333     &0.5379    \\\\\n",
      "13       &85         &55         &45         &0.8182     &0.5294     &0.6429    \\\\\n",
      "14       &53         &41         &26         &0.6341     &0.4906     &0.5532    \\\\\n",
      "15       &57         &40         &29         &0.7250     &0.5088     &0.5979    \\\\\n",
      "16       &49         &31         &25         &0.8065     &0.5102     &0.6250    \\\\\n",
      "17       &32         &17         &13         &0.7647     &0.4062     &0.5306    \\\\\n",
      "18       &24         &16         &10         &0.6250     &0.4167     &0.5000    \\\\\n",
      "19       &25         &12         &9          &0.7500     &0.3600     &0.4865    \\\\\n",
      "20       &28         &13         &11         &0.8462     &0.3929     &0.5366    \\\\\n",
      "21       &15         &4          &3          &0.7500     &0.2000     &0.3158    \\\\\n",
      "22       &16         &6          &5          &0.8333     &0.3125     &0.4545    \\\\\n",
      "23       &14         &5          &5          &1.0000     &0.3571     &0.5263    \\\\\n",
      "24       &10         &7          &7          &1.0000     &0.7000     &0.8235    \\\\\n",
      "25       &12         &6          &5          &0.8333     &0.4167     &0.5556    \\\\\n",
      "26       &7          &1          &1          &1.0000     &0.1429     &0.2500    \\\\\n",
      "27       &6          &3          &3          &1.0000     &0.5000     &0.6667    \\\\\n",
      "28       &6          &4          &3          &0.7500     &0.5000     &0.6000    \\\\\n",
      "29       &5          &2          &2          &1.0000     &0.4000     &0.5714    \\\\\n",
      "30       &3          &0          &0          &0.0000     &0.0000     &0.0000    \\\\\n",
      "31       &1          &0          &0          &0.0000     &0.0000     &0.0000    \\\\\n",
      "33       &1          &0          &0          &0.0000     &0.0000     &0.0000    \\\\\n",
      "34       &2          &2          &2          &1.0000     &1.0000     &1.0000    \\\\\n",
      "36       &1          &0          &0          &0.0000     &0.0000     &0.0000    \\\\\n",
      "37       &3          &2          &0          &0.0000     &0.0000     &0.0000    \\\\\n",
      "42       &1          &1          &1          &1.0000     &1.0000     &1.0000    \\\\\n",
      "43       &1          &0          &0          &0.0000     &0.0000     &0.0000    \\\\\n",
      "Longest dependency in gold: 44\n",
      "Longest dependency in test: 43\n",
      "\n",
      "Dependencies by length\n",
      "Length   &Gold       &Test       &Match      &Precision  &Recall     &F-score   \\\\\n",
      "-1       &1605       &1545       &1476       &0.9553     &0.9196     &0.9371    \\\\\n",
      "0        &8029       &8166       &6682       &0.8183     &0.8322     &0.8252    \\\\\n",
      "1        &4212       &4054       &3287       &0.8108     &0.7804     &0.7953    \\\\\n",
      "2        &2501       &2379       &1786       &0.7507     &0.7141     &0.7320    \\\\\n",
      "3        &1557       &1401       &969        &0.6916     &0.6224     &0.6552    \\\\\n",
      "4        &1020       &856        &564        &0.6589     &0.5529     &0.6013    \\\\\n",
      "5        &752        &563        &365        &0.6483     &0.4854     &0.5551    \\\\\n",
      "6        &482        &360        &232        &0.6444     &0.4813     &0.5511    \\\\\n",
      "7        &406        &299        &187        &0.6254     &0.4606     &0.5305    \\\\\n",
      "8        &310        &198        &129        &0.6515     &0.4161     &0.5079    \\\\\n",
      "9        &268        &170        &101        &0.5941     &0.3769     &0.4612    \\\\\n",
      "10       &207        &140        &84         &0.6000     &0.4058     &0.4841    \\\\\n",
      "11       &186        &117        &78         &0.6667     &0.4194     &0.5149    \\\\\n",
      "12       &133        &84         &60         &0.7143     &0.4511     &0.5530    \\\\\n",
      "13       &100        &62         &45         &0.7258     &0.4500     &0.5556    \\\\\n",
      "14       &91         &48         &40         &0.8333     &0.4396     &0.5755    \\\\\n",
      "15       &80         &50         &35         &0.7000     &0.4375     &0.5385    \\\\\n",
      "16       &59         &28         &20         &0.7143     &0.3390     &0.4598    \\\\\n",
      "17       &41         &26         &17         &0.6538     &0.4146     &0.5075    \\\\\n",
      "18       &38         &23         &16         &0.6957     &0.4211     &0.5246    \\\\\n",
      "19       &36         &17         &13         &0.7647     &0.3611     &0.4906    \\\\\n",
      "20       &29         &11         &9          &0.8182     &0.3103     &0.4500    \\\\\n",
      "21       &19         &9          &7          &0.7778     &0.3684     &0.5000    \\\\\n",
      "22       &21         &11         &5          &0.4545     &0.2381     &0.3125    \\\\\n",
      "23       &22         &14         &9          &0.6429     &0.4091     &0.5000    \\\\\n",
      "24       &13         &4          &3          &0.7500     &0.2308     &0.3529    \\\\\n",
      "25       &10         &3          &2          &0.6667     &0.2000     &0.3077    \\\\\n",
      "26       &5          &2          &1          &0.5000     &0.2000     &0.2857    \\\\\n",
      "27       &4          &3          &2          &0.6667     &0.5000     &0.5714    \\\\\n",
      "28       &4          &1          &1          &1.0000     &0.2500     &0.4000    \\\\\n",
      "29       &3          &1          &1          &1.0000     &0.3333     &0.5000    \\\\\n",
      "30       &4          &1          &1          &1.0000     &0.2500     &0.4000    \\\\\n",
      "31       &4          &0          &0          &0.0000     &0.0000     &0.0000    \\\\\n",
      "33       &1          &0          &0          &0.0000     &0.0000     &0.0000    \\\\\n",
      "34       &2          &1          &1          &1.0000     &0.5000     &0.6667    \\\\\n",
      "35       &1          &1          &1          &1.0000     &1.0000     &1.0000    \\\\\n",
      "36       &1          &1          &1          &1.0000     &1.0000     &1.0000    \\\\\n",
      "37       &2          &2          &2          &1.0000     &1.0000     &1.0000    \\\\\n",
      "Longest dependency in gold: 38\n",
      "Longest dependency in test: 38\n",
      "\n"
     ]
    }
   ],
   "source": [
    "full_analysis(d.dm, d.peking_dm_closed_2, 'peking_dm_closed_2')\n",
    "full_analysis(d.psd, d.peking_psd_closed_2, 'peking_psd_closed_2')\n",
    "peking_plot1 = dependencies_by_length(d.dm, d.peking_dm_closed_2)\n",
    "peking_plot2 = dependencies_by_length(d.psd, d.peking_psd_closed_2)"
   ]
  },
  {
   "cell_type": "code",
   "execution_count": 20,
   "metadata": {
    "collapsed": false,
    "scrolled": true
   },
   "outputs": [
    {
     "name": "stdout",
     "output_type": "stream",
     "text": [
      "turku_dm_open\n",
      "--------------------------------------\n",
      "Type                 precision            recall               f-score             \n",
      "Unlabeled            0.8973              & 0.8646              & 0.8806              \n",
      "Labeled              0.8780              & 0.8460              & 0.8617              \n",
      "\n",
      "turku_psd_open\n",
      "--------------------------------------\n",
      "Type                 precision            recall               f-score             \n",
      "Unlabeled            0.8934              & 0.8373              & 0.8644              \n",
      "Labeled              0.7610              & 0.7132              & 0.7363              \n",
      "\n",
      "Dependencies by length\n",
      "Length   &Gold       &Test       &Match      &Precision  &Recall     &F-score   \\\\\n",
      "-1       &1407       &1410       &1207       &0.8560     &0.8579     &0.8569    \\\\\n",
      "0        &10735      &10721      &9881       &0.9216     &0.9204     &0.9210    \\\\\n",
      "1        &5410       &5302       &4794       &0.9042     &0.8861     &0.8951    \\\\\n",
      "2        &2768       &2678       &2275       &0.8495     &0.8219     &0.8355    \\\\\n",
      "3        &1312       &1206       &973        &0.8068     &0.7416     &0.7728    \\\\\n",
      "4        &797        &679        &527        &0.7761     &0.6612     &0.7141    \\\\\n",
      "5        &539        &439        &339        &0.7722     &0.6289     &0.6933    \\\\\n",
      "6        &323        &274        &187        &0.6825     &0.5789     &0.6265    \\\\\n",
      "7        &285        &204        &154        &0.7549     &0.5404     &0.6299    \\\\\n",
      "8        &201        &174        &119        &0.6839     &0.5920     &0.6347    \\\\\n",
      "9        &195        &157        &102        &0.6497     &0.5231     &0.5795    \\\\\n",
      "10       &157        &116        &85         &0.7328     &0.5414     &0.6227    \\\\\n",
      "11       &137        &111        &73         &0.6577     &0.5328     &0.5887    \\\\\n",
      "12       &90         &72         &49         &0.6806     &0.5444     &0.6049    \\\\\n",
      "13       &85         &65         &46         &0.7077     &0.5412     &0.6133    \\\\\n",
      "14       &53         &54         &33         &0.6111     &0.6226     &0.6168    \\\\\n",
      "15       &57         &48         &30         &0.6250     &0.5263     &0.5714    \\\\\n",
      "16       &49         &35         &24         &0.6857     &0.4898     &0.5714    \\\\\n",
      "17       &32         &23         &15         &0.6522     &0.4688     &0.5455    \\\\\n",
      "18       &24         &20         &9          &0.4500     &0.3750     &0.4091    \\\\\n",
      "19       &25         &20         &11         &0.5500     &0.4400     &0.4889    \\\\\n",
      "20       &28         &25         &18         &0.7200     &0.6429     &0.6792    \\\\\n",
      "21       &15         &16         &9          &0.5625     &0.6000     &0.5806    \\\\\n",
      "22       &16         &8          &4          &0.5000     &0.2500     &0.3333    \\\\\n",
      "23       &14         &7          &5          &0.7143     &0.3571     &0.4762    \\\\\n",
      "24       &10         &5          &4          &0.8000     &0.4000     &0.5333    \\\\\n",
      "25       &12         &7          &4          &0.5714     &0.3333     &0.4211    \\\\\n",
      "26       &7          &1          &1          &1.0000     &0.1429     &0.2500    \\\\\n",
      "27       &6          &4          &4          &1.0000     &0.6667     &0.8000    \\\\\n",
      "28       &6          &4          &1          &0.2500     &0.1667     &0.2000    \\\\\n",
      "29       &5          &5          &4          &0.8000     &0.8000     &0.8000    \\\\\n",
      "30       &3          &1          &1          &1.0000     &0.3333     &0.5000    \\\\\n",
      "31       &1          &1          &0          &0.0000     &0.0000     &0.0000    \\\\\n",
      "33       &1          &0          &0          &0.0000     &0.0000     &0.0000    \\\\\n",
      "34       &2          &4          &2          &0.5000     &1.0000     &0.6667    \\\\\n",
      "36       &1          &0          &0          &0.0000     &0.0000     &0.0000    \\\\\n",
      "37       &3          &3          &1          &0.3333     &0.3333     &0.3333    \\\\\n",
      "42       &1          &1          &1          &1.0000     &1.0000     &1.0000    \\\\\n",
      "43       &1          &1          &0          &0.0000     &0.0000     &0.0000    \\\\\n",
      "Longest dependency in gold: 44\n",
      "Longest dependency in test: 44\n",
      "\n",
      "Dependencies by length\n",
      "Length   &Gold       &Test       &Match      &Precision  &Recall     &F-score   \\\\\n",
      "-1       &1605       &2156       &1530       &0.7096     &0.9533     &0.8136    \\\\\n",
      "0        &8029       &8075       &6530       &0.8087     &0.8133     &0.8110    \\\\\n",
      "1        &4212       &3951       &3158       &0.7993     &0.7498     &0.7737    \\\\\n",
      "2        &2501       &2290       &1668       &0.7284     &0.6669     &0.6963    \\\\\n",
      "3        &1557       &1363       &942        &0.6911     &0.6050     &0.6452    \\\\\n",
      "4        &1020       &821        &537        &0.6541     &0.5265     &0.5834    \\\\\n",
      "5        &752        &523        &366        &0.6998     &0.4867     &0.5741    \\\\\n",
      "6        &482        &349        &236        &0.6762     &0.4896     &0.5680    \\\\\n",
      "7        &406        &266        &196        &0.7368     &0.4828     &0.5833    \\\\\n",
      "8        &310        &200        &135        &0.6750     &0.4355     &0.5294    \\\\\n",
      "9        &268        &170        &101        &0.5941     &0.3769     &0.4612    \\\\\n",
      "10       &207        &131        &86         &0.6565     &0.4155     &0.5089    \\\\\n",
      "11       &186        &126        &87         &0.6905     &0.4677     &0.5577    \\\\\n",
      "12       &133        &81         &51         &0.6296     &0.3835     &0.4766    \\\\\n",
      "13       &100        &58         &42         &0.7241     &0.4200     &0.5316    \\\\\n",
      "14       &91         &63         &46         &0.7302     &0.5055     &0.5974    \\\\\n",
      "15       &80         &53         &39         &0.7358     &0.4875     &0.5865    \\\\\n",
      "16       &59         &31         &22         &0.7097     &0.3729     &0.4889    \\\\\n",
      "17       &41         &26         &15         &0.5769     &0.3659     &0.4478    \\\\\n",
      "18       &38         &29         &20         &0.6897     &0.5263     &0.5970    \\\\\n",
      "19       &36         &18         &11         &0.6111     &0.3056     &0.4074    \\\\\n",
      "20       &29         &18         &14         &0.7778     &0.4828     &0.5957    \\\\\n",
      "21       &19         &13         &7          &0.5385     &0.3684     &0.4375    \\\\\n",
      "22       &21         &9          &7          &0.7778     &0.3333     &0.4667    \\\\\n",
      "23       &22         &13         &10         &0.7692     &0.4545     &0.5714    \\\\\n",
      "24       &13         &5          &4          &0.8000     &0.3077     &0.4444    \\\\\n",
      "25       &10         &4          &3          &0.7500     &0.3000     &0.4286    \\\\\n",
      "26       &5          &0          &0          &0.0000     &0.0000     &0.0000    \\\\\n",
      "27       &4          &5          &2          &0.4000     &0.5000     &0.4444    \\\\\n",
      "28       &4          &2          &2          &1.0000     &0.5000     &0.6667    \\\\\n",
      "29       &3          &4          &3          &0.7500     &1.0000     &0.8571    \\\\\n",
      "30       &4          &0          &0          &0.0000     &0.0000     &0.0000    \\\\\n",
      "31       &4          &2          &1          &0.5000     &0.2500     &0.3333    \\\\\n",
      "33       &1          &0          &0          &0.0000     &0.0000     &0.0000    \\\\\n",
      "34       &2          &1          &1          &1.0000     &0.5000     &0.6667    \\\\\n",
      "35       &1          &0          &0          &0.0000     &0.0000     &0.0000    \\\\\n",
      "36       &1          &1          &1          &1.0000     &1.0000     &1.0000    \\\\\n",
      "37       &2          &2          &2          &1.0000     &1.0000     &1.0000    \\\\\n",
      "Longest dependency in gold: 38\n",
      "Longest dependency in test: 39\n",
      "\n"
     ]
    }
   ],
   "source": [
    "full_analysis(d.dm, d.turku_dm_open, 'turku_dm_open')\n",
    "full_analysis(d.psd, d.turku_psd_open, 'turku_psd_open')\n",
    "turku_plot1 = dependencies_by_length(d.dm, d.turku_dm_open)\n",
    "turku_plot2 = dependencies_by_length(d.psd, d.turku_psd_open)"
   ]
  },
  {
   "cell_type": "code",
   "execution_count": 29,
   "metadata": {
    "collapsed": false
   },
   "outputs": [],
   "source": [
    "def graf_lengths(data, f, to, name):\n",
    "    chart = pygal.Line(legend_at_bottom=True, legend_at_bottom_columns=3, x_label_rotation=30, logarithmic=True)\n",
    "    chart.x_labels = data[0][f:to]\n",
    "#     chart.title = name.replace('_', ' ')\n",
    "    \n",
    "    chart.add('Gold', data[1][f:to])\n",
    "    chart.add('Predicted', data[2][f:to])\n",
    "    chart.add('Match', data[3][f:to])\n",
    "    \n",
    "    chart.render_to_file('plots/length/{}_dep_lengths.svg'.format(name.replace('_', ' ')))"
   ]
  },
  {
   "cell_type": "code",
   "execution_count": 30,
   "metadata": {
    "collapsed": false
   },
   "outputs": [],
   "source": [
    "graf_lengths(lisbon_plot1, 0, 22, 'Lisbon_DM')\n",
    "graf_lengths(lisbon_plot2, 0, 22, 'Lisbon_PSD')\n",
    "\n",
    "graf_lengths(peking_plot1, 0, 22, 'Peking_DM')\n",
    "graf_lengths(peking_plot2, 0, 22, 'Peking_PSD')\n",
    "\n",
    "graf_lengths(turku_plot1, 0, 22, 'Turku_DM')\n",
    "graf_lengths(turku_plot2, 0, 22, 'Turku_PSD')"
   ]
  },
  {
   "cell_type": "code",
   "execution_count": 31,
   "metadata": {
    "collapsed": false
   },
   "outputs": [],
   "source": [
    "def graf_lengths_p_r_f(data, f, to, name, parsers, p_r_f):\n",
    "    chart = pygal.Line(legend_at_bottom=True, legend_at_bottom_columns=3, x_label_rotation=30, logarithmic=True)\n",
    "    chart.x_labels = data[0][0][f:to]\n",
    "    name_p_r_f = {'p': 'Precision', 'r': 'Recall', 'f': 'F-score'}\n",
    "#     chart.title = '{} {}'.format(name.replace('_', ' '), name_p_r_f[p_r_f])\n",
    "    \n",
    "    for i in range(3):\n",
    "        if p_r_f == 'p':\n",
    "            chart.add('{}'.format(parsers[i]), data[i][4][f:to])\n",
    "        elif p_r_f == 'r':\n",
    "            chart.add('{}'.format(parsers[i]), data[i][5][f:to])\n",
    "        elif p_r_f == 'f':\n",
    "            chart.add('{}'.format(parsers[i]), data[i][6][f:to])\n",
    "    \n",
    "    chart.render_to_file('plots/length/{}_{}.svg'.format(name, name_p_r_f[p_r_f]))"
   ]
  },
  {
   "cell_type": "code",
   "execution_count": 32,
   "metadata": {
    "collapsed": false
   },
   "outputs": [],
   "source": [
    "graf_lengths_p_r_f((lisbon_plot1, peking_plot1, turku_plot1), 0, 22, 'Comparison_of_DM', ('Lisbon', 'Peking', 'Turku'), 'p')\n",
    "graf_lengths_p_r_f((lisbon_plot1, peking_plot1, turku_plot1), 0, 22, 'Comparison_of_DM', ('Lisbon', 'Peking', 'Turku'), 'r')\n",
    "graf_lengths_p_r_f((lisbon_plot1, peking_plot1, turku_plot1), 0, 22, 'Comparison_of_DM', ('Lisbon', 'Peking', 'Turku'), 'f')"
   ]
  },
  {
   "cell_type": "code",
   "execution_count": 33,
   "metadata": {
    "collapsed": true
   },
   "outputs": [],
   "source": [
    "graf_lengths_p_r_f((lisbon_plot2, peking_plot2, turku_plot2), 0, 22, 'Comparison_of_PSD', ('Lisbon', 'Peking', 'Turku'), 'p')\n",
    "graf_lengths_p_r_f((lisbon_plot2, peking_plot2, turku_plot2), 0, 22, 'Comparison_of_PSD', ('Lisbon', 'Peking', 'Turku'), 'r')\n",
    "graf_lengths_p_r_f((lisbon_plot2, peking_plot2, turku_plot2), 0, 22, 'Comparison_of_PSD', ('Lisbon', 'Peking', 'Turku'), 'f')"
   ]
  },
  {
   "cell_type": "markdown",
   "metadata": {},
   "source": [
    "# Sentence length"
   ]
  },
  {
   "cell_type": "code",
   "execution_count": 51,
   "metadata": {
    "collapsed": false,
    "scrolled": false
   },
   "outputs": [],
   "source": [
    "def sentence_lengths_graph(data_dm):\n",
    "    chart = pygal.Line(fill=True, show_legend=False, x_title='Sentence length', y_title='Frequency', style=CleanStyle)\n",
    "    chart.x_labels = [a for a, b in enumerate(data_dm)]\n",
    "#     chart.title = 'Sentence lengths'\n",
    "    \n",
    "    chart.add('', data_dm)\n",
    "    \n",
    "    chart.render_to_file('plots/length/sentence_lengths.svg')\n",
    "    \n",
    "    data = [a for a, b in enumerate(data_dm)]\n",
    "    maximum = max(data)\n",
    "    minimum = min(data)\n",
    "    average = sum(data) / float(len(data))\n",
    "    print(maximum, minimum, average)"
   ]
  },
  {
   "cell_type": "code",
   "execution_count": 52,
   "metadata": {
    "collapsed": false
   },
   "outputs": [
    {
     "name": "stdout",
     "output_type": "stream",
     "text": [
      "55 0 27.5\n"
     ]
    }
   ],
   "source": [
    "lengths_dm = sentence_lengths(d.dm_training, d.dm)\n",
    "sentence_lengths_graph(lengths_dm)"
   ]
  }
 ],
 "metadata": {
  "anaconda-cloud": {},
  "kernelspec": {
   "display_name": "ml",
   "language": "python",
   "name": "ml"
  },
  "language_info": {
   "codemirror_mode": {
    "name": "ipython",
    "version": 3
   },
   "file_extension": ".py",
   "mimetype": "text/x-python",
   "name": "python",
   "nbconvert_exporter": "python",
   "pygments_lexer": "ipython3",
   "version": "3.5.2"
  }
 },
 "nbformat": 4,
 "nbformat_minor": 0
}
