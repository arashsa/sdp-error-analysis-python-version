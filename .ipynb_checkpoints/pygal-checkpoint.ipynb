{
 "cells": [
  {
   "cell_type": "code",
   "execution_count": 1,
   "metadata": {
    "collapsed": false
   },
   "outputs": [],
   "source": [
    "import pygal\n",
    "import cairosvg\n",
    "import lxml, tinycss, cssselect"
   ]
  },
  {
   "cell_type": "code",
   "execution_count": 4,
   "metadata": {
    "collapsed": false
   },
   "outputs": [],
   "source": [
    "bar_chart = pygal.Bar()\n",
    "bar_chart.title = 'test'\n",
    "t = [0, 10, 30, 40, 10]\n",
    "p = [20, 10, 14, 20, 30, 40, 50]\n",
    "bar_chart.add('Turku', t)\n",
    "bar_chart.add('Peking', p)\n",
    "bar_chart.render_to_file('/tmp/chart.svg')"
   ]
  }
 ],
 "metadata": {
  "anaconda-cloud": {},
  "kernelspec": {
   "display_name": "ml",
   "language": "python",
   "name": "ml"
  },
  "language_info": {
   "codemirror_mode": {
    "name": "ipython",
    "version": 3
   },
   "file_extension": ".py",
   "mimetype": "text/x-python",
   "name": "python",
   "nbconvert_exporter": "python",
   "pygments_lexer": "ipython3",
   "version": "3.5.2"
  }
 },
 "nbformat": 4,
 "nbformat_minor": 1
}
