{
 "cells": [
  {
   "cell_type": "code",
   "execution_count": 1,
   "metadata": {
    "collapsed": true
   },
   "outputs": [],
   "source": [
    "%config IPCompleter.greedy=True\n",
    "import networkx as nx\n",
    "import matplotlib.pyplot as plt\n",
    "from matplotlib import style\n",
    "style.use(style.available[0])"
   ]
  },
  {
   "cell_type": "code",
   "execution_count": 3,
   "metadata": {
    "collapsed": false
   },
   "outputs": [],
   "source": [
    "from functions import create_graph_conll, full_analysis, get_args, get_frame, get_pos\n",
    "from dependencies import dependencies_by_type, dependencies_by_length\n",
    "from singletons import singletons, singletons_pos_frame\n",
    "from data import Data"
   ]
  },
  {
   "cell_type": "code",
   "execution_count": 4,
   "metadata": {
    "collapsed": true
   },
   "outputs": [],
   "source": [
    "d = Data()"
   ]
  },
  {
   "cell_type": "markdown",
   "metadata": {},
   "source": [
    "# Singletons"
   ]
  },
  {
   "cell_type": "code",
   "execution_count": 14,
   "metadata": {
    "collapsed": false
   },
   "outputs": [
    {
     "name": "stdout",
     "output_type": "stream",
     "text": [
      "lisbon_dm_open\n",
      "--------------------------------------\n",
      "Type                 precision            recall               f-score             \n",
      "Unlabeled            0.9162              & 0.8946              & 0.9053              \n",
      "Labeled              0.9052              & 0.8839              & 0.8944              \n",
      "\n",
      "lisbon_psd_open\n",
      "--------------------------------------\n",
      "Type                 precision            recall               f-score             \n",
      "Unlabeled            0.9127              & 0.8616              & 0.8864              \n",
      "Labeled              0.7988              & 0.7541              & 0.7758              \n",
      "\n",
      "Gold       &Test       &Match      &Precision  &Recall     &F-score   \\\\\n",
      "7678       &7727       &7425       &0.9609     &0.9670     &0.9640    \\\\\n",
      "Gold       &Test       &Match      &Precision  &Recall     &F-score   \\\\\n",
      "11600      &11912      &11494      &0.9649     &0.9909     &0.9777    \\\\\n"
     ]
    }
   ],
   "source": [
    "full_analysis(d.dm, d.lisbon_dm_open, 'lisbon_dm_open')\n",
    "full_analysis(d.psd, d.lisbon_psd_open, 'lisbon_psd_open')\n",
    "lisbon_singletons_dm = singletons(d.dm, d.lisbon_dm_open)\n",
    "lisbon_singletons_psd = singletons(d.psd, d.lisbon_psd_open)"
   ]
  },
  {
   "cell_type": "code",
   "execution_count": 15,
   "metadata": {
    "collapsed": false
   },
   "outputs": [
    {
     "name": "stdout",
     "output_type": "stream",
     "text": [
      "peking_dm_closed_2\n",
      "--------------------------------------\n",
      "Type                 precision            recall               f-score             \n",
      "Unlabeled            0.9238              & 0.8871              & 0.9051              \n",
      "Labeled              0.9093              & 0.8732              & 0.8909              \n",
      "\n",
      "peking_psd_closed_2\n",
      "--------------------------------------\n",
      "Type                 precision            recall               f-score             \n",
      "Unlabeled            0.9211              & 0.8547              & 0.8867              \n",
      "Labeled              0.7860              & 0.7293              & 0.7566              \n",
      "\n",
      "Gold       &Test       &Match      &Precision  &Recall     &F-score   \\\\\n",
      "7678       &7681       &7406       &0.9642     &0.9646     &0.9644    \\\\\n",
      "Gold       &Test       &Match      &Precision  &Recall     &F-score   \\\\\n",
      "11600      &11736      &11508      &0.9806     &0.9921     &0.9863    \\\\\n"
     ]
    }
   ],
   "source": [
    "full_analysis(d.dm, d.peking_dm_closed_2, 'peking_dm_closed_2')\n",
    "full_analysis(d.psd, d.peking_psd_closed_2, 'peking_psd_closed_2')\n",
    "peking_singletons_dm = singletons(d.dm, d.peking_dm_closed_2)\n",
    "peking_singletons_psd = singletons(d.psd, d.peking_psd_closed_2)"
   ]
  },
  {
   "cell_type": "code",
   "execution_count": 16,
   "metadata": {
    "collapsed": false
   },
   "outputs": [
    {
     "name": "stdout",
     "output_type": "stream",
     "text": [
      "turku_dm_open\n",
      "--------------------------------------\n",
      "Type                 precision            recall               f-score             \n",
      "Unlabeled            0.8973              & 0.8646              & 0.8806              \n",
      "Labeled              0.8780              & 0.8460              & 0.8617              \n",
      "\n",
      "turku_psd_open\n",
      "--------------------------------------\n",
      "Type                 precision            recall               f-score             \n",
      "Unlabeled            0.8934              & 0.8373              & 0.8644              \n",
      "Labeled              0.7610              & 0.7132              & 0.7363              \n",
      "\n",
      "Gold       &Test       &Match      &Precision  &Recall     &F-score   \\\\\n",
      "7678       &7850       &7371       &0.9390     &0.9600     &0.9494    \\\\\n",
      "Gold       &Test       &Match      &Precision  &Recall     &F-score   \\\\\n",
      "11600      &12173      &11474      &0.9426     &0.9891     &0.9653    \\\\\n"
     ]
    }
   ],
   "source": [
    "full_analysis(d.dm, d.turku_dm_open, 'turku_dm_open')\n",
    "full_analysis(d.psd, d.turku_psd_open, 'turku_psd_open')\n",
    "turku_singletons_dm = singletons(d.dm, d.turku_dm_open)\n",
    "turku_singletons_psd = singletons(d.psd, d.turku_psd_open)"
   ]
  },
  {
   "cell_type": "markdown",
   "metadata": {},
   "source": [
    "# Singletons with POS"
   ]
  },
  {
   "cell_type": "code",
   "execution_count": 18,
   "metadata": {
    "collapsed": false
   },
   "outputs": [
    {
     "name": "stdout",
     "output_type": "stream",
     "text": [
      "lisbon_dm_open\n",
      "--------------------------------------\n",
      "Type                 precision            recall               f-score             \n",
      "Unlabeled            0.9162              & 0.8946              & 0.9053              \n",
      "Labeled              0.9052              & 0.8839              & 0.8944              \n",
      "\n",
      "Pos/Frame            &Gold       &Test       &Match      &Precision  &Recall     &F-score   \\\\\n",
      ",                    &1712       &1712       &1712       &1.0000     &1.0000     &1.0000    \\\\\n",
      ".                    &1402       &1403       &1402       &0.9993     &1.0000     &0.9996    \\\\\n",
      "IN                   &843        &837        &720        &0.8602     &0.8541     &0.8571    \\\\\n",
      "CC                   &690        &693        &687        &0.9913     &0.9957     &0.9935    \\\\\n",
      "TO                   &483        &490        &450        &0.9184     &0.9317     &0.9250    \\\\\n",
      "``                   &318        &318        &318        &1.0000     &1.0000     &1.0000    \\\\\n",
      "''                   &313        &311        &311        &1.0000     &0.9936     &0.9968    \\\\\n",
      "VBZ                  &286        &401        &268        &0.6683     &0.9371     &0.7802    \\\\\n",
      "POS                  &265        &20         &18         &0.9000     &0.0679     &0.1263    \\\\\n",
      "VBD                  &242        &244        &236        &0.9672     &0.9752     &0.9712    \\\\\n",
      "VBP                  &179        &190        &177        &0.9316     &0.9888     &0.9593    \\\\\n",
      "WDT                  &134        &111        &105        &0.9459     &0.7836     &0.8571    \\\\\n",
      "VB                   &129        &128        &124        &0.9688     &0.9612     &0.9650    \\\\\n",
      "RB                   &126        &139        &75         &0.5396     &0.5952     &0.5660    \\\\\n",
      "RP                   &96         &91         &64         &0.7033     &0.6667     &0.6845    \\\\\n",
      "MD                   &94         &88         &87         &0.9886     &0.9255     &0.9560    \\\\\n",
      ":                    &77         &81         &77         &0.9506     &1.0000     &0.9747    \\\\\n",
      "WP                   &53         &55         &52         &0.9455     &0.9811     &0.9630    \\\\\n",
      "VBN                  &51         &50         &49         &0.9800     &0.9608     &0.9703    \\\\\n",
      "EX                   &35         &35         &35         &1.0000     &1.0000     &1.0000    \\\\\n",
      "DT                   &26         &25         &9          &0.3600     &0.3462     &0.3529    \\\\\n",
      "PRP                  &26         &20         &12         &0.6000     &0.4615     &0.5217    \\\\\n",
      "(                    &21         &21         &21         &1.0000     &1.0000     &1.0000    \\\\\n",
      ")                    &21         &21         &21         &1.0000     &1.0000     &1.0000    \\\\\n",
      "WRB                  &16         &20         &13         &0.6500     &0.8125     &0.7222    \\\\\n",
      "NN                   &12         &18         &7          &0.3889     &0.5833     &0.4667    \\\\\n",
      "VBG                  &11         &10         &8          &0.8000     &0.7273     &0.7619    \\\\\n",
      "WP$                  &8          &8          &8          &1.0000     &1.0000     &1.0000    \\\\\n",
      "UH                   &3          &3          &2          &0.6667     &0.6667     &0.6667    \\\\\n",
      "NNP                  &2          &13         &0          &0.0000     &0.0000     &0.0000    \\\\\n",
      "JJ                   &2          &15         &0          &0.0000     &0.0000     &0.0000    \\\\\n",
      "NNS                  &1          &142        &0          &0.0000     &0.0000     &0.0000    \\\\\n",
      "FW                   &1          &1          &0          &0.0000     &0.0000     &0.0000    \\\\\n",
      "PRP$                 &0          &2          &0          &0.0000     &0.0000     &0.0000    \\\\\n",
      "RBR                  &0          &3          &0          &0.0000     &0.0000     &0.0000    \\\\\n",
      "JJS                  &0          &1          &0          &0.0000     &0.0000     &0.0000    \\\\\n",
      "CD                   &0          &6          &0          &0.0000     &0.0000     &0.0000    \\\\\n",
      "NNPS                 &0          &0          &0          &0.0000     &0.0000     &0.0000    \\\\\n",
      "JJR                  &0          &0          &0          &0.0000     &0.0000     &0.0000    \\\\\n",
      "$                    &0          &0          &0          &0.0000     &0.0000     &0.0000    \\\\\n",
      "PDT                  &0          &1          &0          &0.0000     &0.0000     &0.0000    \\\\\n",
      "RBS                  &0          &0          &0          &0.0000     &0.0000     &0.0000    \\\\\n",
      "\n",
      "lisbon_psd_open\n",
      "--------------------------------------\n",
      "Type                 precision            recall               f-score             \n",
      "Unlabeled            0.9127              & 0.8616              & 0.8864              \n",
      "Labeled              0.7988              & 0.7541              & 0.7758              \n",
      "\n",
      "Pos/Frame            &Gold       &Test       &Match      &Precision  &Recall     &F-score   \\\\\n",
      "IN                   &3119       &3143       &3107       &0.9885     &0.9962     &0.9923    \\\\\n",
      "DT                   &2448       &2460       &2444       &0.9935     &0.9984     &0.9959    \\\\\n",
      ",                    &1482       &1483       &1481       &0.9987     &0.9993     &0.9990    \\\\\n",
      ".                    &1403       &1403       &1403       &1.0000     &1.0000     &1.0000    \\\\\n",
      "TO                   &681        &682        &679        &0.9956     &0.9971     &0.9963    \\\\\n",
      "MD                   &341        &341        &341        &1.0000     &1.0000     &1.0000    \\\\\n",
      "``                   &318        &318        &318        &1.0000     &1.0000     &1.0000    \\\\\n",
      "''                   &313        &313        &313        &1.0000     &1.0000     &1.0000    \\\\\n",
      "POS                  &282        &282        &282        &1.0000     &1.0000     &1.0000    \\\\\n",
      "VBZ                  &205        &202        &196        &0.9703     &0.9561     &0.9631    \\\\\n",
      "VBD                  &177        &168        &164        &0.9762     &0.9266     &0.9507    \\\\\n",
      "VBP                  &149        &148        &146        &0.9865     &0.9799     &0.9832    \\\\\n",
      "RP                   &110        &117        &110        &0.9402     &1.0000     &0.9692    \\\\\n",
      "VB                   &108        &102        &101        &0.9902     &0.9352     &0.9619    \\\\\n",
      "RB                   &106        &233        &100        &0.4292     &0.9434     &0.5900    \\\\\n",
      ":                    &55         &62         &54         &0.8710     &0.9818     &0.9231    \\\\\n",
      "VBG                  &49         &46         &44         &0.9565     &0.8980     &0.9263    \\\\\n",
      "VBN                  &49         &48         &44         &0.9167     &0.8980     &0.9072    \\\\\n",
      "EX                   &35         &35         &35         &1.0000     &1.0000     &1.0000    \\\\\n",
      "PRP                  &32         &34         &23         &0.6765     &0.7188     &0.6970    \\\\\n",
      "WRB                  &32         &38         &26         &0.6842     &0.8125     &0.7429    \\\\\n",
      "-RRB-                &20         &20         &20         &1.0000     &1.0000     &1.0000    \\\\\n",
      "-LRB-                &19         &19         &19         &1.0000     &1.0000     &1.0000    \\\\\n",
      "JJ                   &18         &22         &11         &0.5000     &0.6111     &0.5500    \\\\\n",
      "RBR                  &17         &24         &16         &0.6667     &0.9412     &0.7805    \\\\\n",
      "NN                   &9          &69         &2          &0.0290     &0.2222     &0.0513    \\\\\n",
      "RBS                  &8          &9          &8          &0.8889     &1.0000     &0.9412    \\\\\n",
      "CC                   &7          &12         &4          &0.3333     &0.5714     &0.4211    \\\\\n",
      "NNP                  &3          &38         &2          &0.0526     &0.6667     &0.0976    \\\\\n",
      "NNS                  &2          &11         &0          &0.0000     &0.0000     &0.0000    \\\\\n",
      "WP                   &1          &1          &0          &0.0000     &0.0000     &0.0000    \\\\\n",
      "WDT                  &1          &4          &0          &0.0000     &0.0000     &0.0000    \\\\\n",
      "FW                   &1          &2          &1          &0.5000     &1.0000     &0.6667    \\\\\n",
      "PRP$                 &0          &2          &0          &0.0000     &0.0000     &0.0000    \\\\\n",
      "JJS                  &0          &1          &0          &0.0000     &0.0000     &0.0000    \\\\\n",
      "CD                   &0          &11         &0          &0.0000     &0.0000     &0.0000    \\\\\n",
      "NNPS                 &0          &1          &0          &0.0000     &0.0000     &0.0000    \\\\\n",
      "JJR                  &0          &6          &0          &0.0000     &0.0000     &0.0000    \\\\\n",
      "UH                   &0          &2          &0          &0.0000     &0.0000     &0.0000    \\\\\n",
      "$                    &0          &0          &0          &0.0000     &0.0000     &0.0000    \\\\\n",
      "WP$                  &0          &0          &0          &0.0000     &0.0000     &0.0000    \\\\\n",
      "PDT                  &0          &0          &0          &0.0000     &0.0000     &0.0000    \\\\\n"
     ]
    }
   ],
   "source": [
    "sort = 1\n",
    "full_analysis(d.dm, d.lisbon_dm_open, 'lisbon_dm_open')\n",
    "lisbon_singletons_pos_dm = singletons_pos_frame(d.dm, d.lisbon_dm_open, pos=d.dm_pos, sort=sort)\n",
    "print()\n",
    "full_analysis(d.psd, d.lisbon_psd_open, 'lisbon_psd_open')\n",
    "lisbon_singletons_pos_psd = singletons_pos_frame(d.psd, d.lisbon_psd_open, pos=d.psd_pos, sort=sort)"
   ]
  },
  {
   "cell_type": "code",
   "execution_count": 19,
   "metadata": {
    "collapsed": false
   },
   "outputs": [
    {
     "name": "stdout",
     "output_type": "stream",
     "text": [
      "peking_dm_closed_2\n",
      "--------------------------------------\n",
      "Type                 precision            recall               f-score             \n",
      "Unlabeled            0.9238              & 0.8871              & 0.9051              \n",
      "Labeled              0.9093              & 0.8732              & 0.8909              \n",
      "\n",
      "Pos/Frame            &Gold       &Test       &Match      &Precision  &Recall     &F-score   \\\\\n",
      ",                    &1712       &1712       &1712       &1.0000     &1.0000     &1.0000    \\\\\n",
      ".                    &1402       &1403       &1402       &0.9993     &1.0000     &0.9996    \\\\\n",
      "IN                   &843        &828        &709        &0.8563     &0.8410     &0.8486    \\\\\n",
      "CC                   &690        &693        &687        &0.9913     &0.9957     &0.9935    \\\\\n",
      "TO                   &483        &476        &444        &0.9328     &0.9193     &0.9260    \\\\\n",
      "``                   &318        &318        &318        &1.0000     &1.0000     &1.0000    \\\\\n",
      "''                   &313        &311        &311        &1.0000     &0.9936     &0.9968    \\\\\n",
      "VBZ                  &286        &411        &276        &0.6715     &0.9650     &0.7920    \\\\\n",
      "POS                  &265        &20         &18         &0.9000     &0.0679     &0.1263    \\\\\n",
      "VBD                  &242        &250        &240        &0.9600     &0.9917     &0.9756    \\\\\n",
      "VBP                  &179        &189        &177        &0.9365     &0.9888     &0.9620    \\\\\n",
      "WDT                  &134        &114        &106        &0.9298     &0.7910     &0.8548    \\\\\n",
      "VB                   &129        &126        &124        &0.9841     &0.9612     &0.9725    \\\\\n",
      "RB                   &126        &121        &66         &0.5455     &0.5238     &0.5344    \\\\\n",
      "RP                   &96         &93         &63         &0.6774     &0.6562     &0.6667    \\\\\n",
      "MD                   &94         &88         &87         &0.9886     &0.9255     &0.9560    \\\\\n",
      ":                    &77         &80         &77         &0.9625     &1.0000     &0.9809    \\\\\n",
      "WP                   &53         &55         &53         &0.9636     &1.0000     &0.9815    \\\\\n",
      "VBN                  &51         &53         &49         &0.9245     &0.9608     &0.9423    \\\\\n",
      "EX                   &35         &36         &35         &0.9722     &1.0000     &0.9859    \\\\\n",
      "DT                   &26         &15         &7          &0.4667     &0.2692     &0.3415    \\\\\n",
      "PRP                  &26         &27         &10         &0.3704     &0.3846     &0.3774    \\\\\n",
      "(                    &21         &21         &21         &1.0000     &1.0000     &1.0000    \\\\\n",
      ")                    &21         &21         &21         &1.0000     &1.0000     &1.0000    \\\\\n",
      "WRB                  &16         &14         &10         &0.7143     &0.6250     &0.6667    \\\\\n",
      "NN                   &12         &10         &5          &0.5000     &0.4167     &0.4545    \\\\\n",
      "VBG                  &11         &10         &9          &0.9000     &0.8182     &0.8571    \\\\\n",
      "WP$                  &8          &8          &8          &1.0000     &1.0000     &1.0000    \\\\\n",
      "UH                   &3          &3          &2          &0.6667     &0.6667     &0.6667    \\\\\n",
      "NNP                  &2          &11         &1          &0.0909     &0.5000     &0.1538    \\\\\n",
      "JJ                   &2          &13         &0          &0.0000     &0.0000     &0.0000    \\\\\n",
      "NNS                  &1          &141        &0          &0.0000     &0.0000     &0.0000    \\\\\n",
      "FW                   &1          &0          &0          &0.0000     &0.0000     &0.0000    \\\\\n",
      "PRP$                 &0          &3          &0          &0.0000     &0.0000     &0.0000    \\\\\n",
      "RBR                  &0          &1          &0          &0.0000     &0.0000     &0.0000    \\\\\n",
      "JJS                  &0          &0          &0          &0.0000     &0.0000     &0.0000    \\\\\n",
      "CD                   &0          &2          &0          &0.0000     &0.0000     &0.0000    \\\\\n",
      "NNPS                 &0          &0          &0          &0.0000     &0.0000     &0.0000    \\\\\n",
      "JJR                  &0          &2          &0          &0.0000     &0.0000     &0.0000    \\\\\n",
      "$                    &0          &0          &0          &0.0000     &0.0000     &0.0000    \\\\\n",
      "PDT                  &0          &2          &0          &0.0000     &0.0000     &0.0000    \\\\\n",
      "RBS                  &0          &0          &0          &0.0000     &0.0000     &0.0000    \\\\\n",
      "\n",
      "Pos/Frame            &Gold       &Test       &Match      &Precision  &Recall     &F-score   \\\\\n",
      "IN                   &3119       &3145       &3111       &0.9892     &0.9974     &0.9933    \\\\\n",
      "DT                   &2448       &2451       &2442       &0.9963     &0.9975     &0.9969    \\\\\n",
      ",                    &1482       &1490       &1482       &0.9946     &1.0000     &0.9973    \\\\\n",
      ".                    &1403       &1403       &1403       &1.0000     &1.0000     &1.0000    \\\\\n",
      "TO                   &681        &683        &680        &0.9956     &0.9985     &0.9971    \\\\\n",
      "MD                   &341        &341        &341        &1.0000     &1.0000     &1.0000    \\\\\n",
      "``                   &318        &318        &318        &1.0000     &1.0000     &1.0000    \\\\\n",
      "''                   &313        &313        &313        &1.0000     &1.0000     &1.0000    \\\\\n",
      "POS                  &282        &282        &282        &1.0000     &1.0000     &1.0000    \\\\\n",
      "VBZ                  &205        &205        &201        &0.9805     &0.9805     &0.9805    \\\\\n",
      "VBD                  &177        &171        &168        &0.9825     &0.9492     &0.9655    \\\\\n",
      "VBP                  &149        &145        &145        &1.0000     &0.9732     &0.9864    \\\\\n",
      "RP                   &110        &117        &109        &0.9316     &0.9909     &0.9604    \\\\\n",
      "VB                   &108        &106        &103        &0.9717     &0.9537     &0.9626    \\\\\n",
      "RB                   &106        &145        &89         &0.6138     &0.8396     &0.7092    \\\\\n",
      ":                    &55         &64         &55         &0.8594     &1.0000     &0.9244    \\\\\n",
      "VBG                  &49         &45         &43         &0.9556     &0.8776     &0.9149    \\\\\n",
      "VBN                  &49         &49         &44         &0.8980     &0.8980     &0.8980    \\\\\n",
      "EX                   &35         &35         &35         &1.0000     &1.0000     &1.0000    \\\\\n",
      "PRP                  &32         &36         &30         &0.8333     &0.9375     &0.8824    \\\\\n",
      "WRB                  &32         &38         &27         &0.7105     &0.8438     &0.7714    \\\\\n",
      "-RRB-                &20         &20         &20         &1.0000     &1.0000     &1.0000    \\\\\n",
      "-LRB-                &19         &19         &19         &1.0000     &1.0000     &1.0000    \\\\\n",
      "JJ                   &18         &19         &14         &0.7368     &0.7778     &0.7568    \\\\\n",
      "RBR                  &17         &21         &17         &0.8095     &1.0000     &0.8947    \\\\\n",
      "NN                   &9          &22         &3          &0.1364     &0.3333     &0.1935    \\\\\n",
      "RBS                  &8          &8          &8          &1.0000     &1.0000     &1.0000    \\\\\n",
      "CC                   &7          &15         &5          &0.3333     &0.7143     &0.4545    \\\\\n",
      "NNP                  &3          &13         &1          &0.0769     &0.3333     &0.1250    \\\\\n",
      "NNS                  &2          &5          &0          &0.0000     &0.0000     &0.0000    \\\\\n",
      "WP                   &1          &0          &0          &0.0000     &0.0000     &0.0000    \\\\\n",
      "WDT                  &1          &0          &0          &0.0000     &0.0000     &0.0000    \\\\\n",
      "FW                   &1          &1          &0          &0.0000     &0.0000     &0.0000    \\\\\n",
      "PRP$                 &0          &0          &0          &0.0000     &0.0000     &0.0000    \\\\\n",
      "JJS                  &0          &0          &0          &0.0000     &0.0000     &0.0000    \\\\\n",
      "CD                   &0          &8          &0          &0.0000     &0.0000     &0.0000    \\\\\n",
      "NNPS                 &0          &1          &0          &0.0000     &0.0000     &0.0000    \\\\\n",
      "JJR                  &0          &1          &0          &0.0000     &0.0000     &0.0000    \\\\\n",
      "UH                   &0          &1          &0          &0.0000     &0.0000     &0.0000    \\\\\n",
      "$                    &0          &0          &0          &0.0000     &0.0000     &0.0000    \\\\\n",
      "WP$                  &0          &0          &0          &0.0000     &0.0000     &0.0000    \\\\\n",
      "PDT                  &0          &0          &0          &0.0000     &0.0000     &0.0000    \\\\\n"
     ]
    }
   ],
   "source": [
    "sort = 1\n",
    "full_analysis(d.dm, d.peking_dm_closed_2, 'peking_dm_closed_2')\n",
    "peking_singletons_pos_dm = singletons_pos_frame(d.dm, d.peking_dm_closed_2, pos=d.dm_pos, sort=sort)\n",
    "print()\n",
    "peking_singletons_pos_psd = singletons_pos_frame(d.psd, d.peking_psd_closed_2, pos=d.psd_pos, sort=sort)"
   ]
  },
  {
   "cell_type": "code",
   "execution_count": 53,
   "metadata": {
    "collapsed": false,
    "scrolled": true
   },
   "outputs": [
    {
     "name": "stdout",
     "output_type": "stream",
     "text": [
      "turku_dm_open\n",
      "--------------------------------------\n",
      "Type                 precision            recall               f-score             \n",
      "Unlabeled            0.8973              & 0.8646              & 0.8806              \n",
      "Labeled              0.8780              & 0.8460              & 0.8617              \n",
      "\n",
      "Pos/Frame            &Gold       &Test       &Match      &Precision  &Recall     &F-score   \\\\\n",
      ",                    &1712       &1712       &1712       &1.0000     &1.0000     &1.0000    \\\\\n",
      ".                    &1402       &1403       &1402       &0.9993     &1.0000     &0.9996    \\\\\n",
      "IN                   &843        &866        &697        &0.8048     &0.8268     &0.8157    \\\\\n",
      "CC                   &690        &695        &684        &0.9842     &0.9913     &0.9877    \\\\\n",
      "TO                   &483        &516        &459        &0.8895     &0.9503     &0.9189    \\\\\n",
      "``                   &318        &318        &318        &1.0000     &1.0000     &1.0000    \\\\\n",
      "''                   &313        &311        &311        &1.0000     &0.9936     &0.9968    \\\\\n",
      "VBZ                  &286        &398        &265        &0.6658     &0.9266     &0.7749    \\\\\n",
      "POS                  &265        &20         &18         &0.9000     &0.0679     &0.1263    \\\\\n",
      "VBD                  &242        &235        &229        &0.9745     &0.9463     &0.9602    \\\\\n",
      "VBP                  &179        &191        &175        &0.9162     &0.9777     &0.9459    \\\\\n",
      "WDT                  &134        &106        &103        &0.9717     &0.7687     &0.8583    \\\\\n",
      "VB                   &129        &128        &121        &0.9453     &0.9380     &0.9416    \\\\\n",
      "RB                   &126        &154        &76         &0.4935     &0.6032     &0.5429    \\\\\n",
      "RP                   &96         &91         &63         &0.6923     &0.6562     &0.6738    \\\\\n",
      "MD                   &94         &89         &87         &0.9775     &0.9255     &0.9508    \\\\\n",
      ":                    &77         &84         &77         &0.9167     &1.0000     &0.9565    \\\\\n",
      "WP                   &53         &56         &53         &0.9464     &1.0000     &0.9725    \\\\\n",
      "VBN                  &51         &48         &47         &0.9792     &0.9216     &0.9495    \\\\\n",
      "EX                   &35         &34         &34         &1.0000     &0.9714     &0.9855    \\\\\n",
      "DT                   &26         &29         &10         &0.3448     &0.3846     &0.3636    \\\\\n",
      "PRP                  &26         &38         &10         &0.2632     &0.3846     &0.3125    \\\\\n",
      "(                    &21         &21         &21         &1.0000     &1.0000     &1.0000    \\\\\n",
      ")                    &21         &21         &21         &1.0000     &1.0000     &1.0000    \\\\\n",
      "WRB                  &16         &16         &10         &0.6250     &0.6250     &0.6250    \\\\\n",
      "NN                   &12         &39         &7          &0.1795     &0.5833     &0.2745    \\\\\n",
      "VBG                  &11         &13         &9          &0.6923     &0.8182     &0.7500    \\\\\n",
      "WP$                  &8          &8          &8          &1.0000     &1.0000     &1.0000    \\\\\n",
      "UH                   &3          &0          &0          &0.0000     &0.0000     &0.0000    \\\\\n",
      "NNP                  &2          &23         &0          &0.0000     &0.0000     &0.0000    \\\\\n",
      "JJ                   &2          &13         &0          &0.0000     &0.0000     &0.0000    \\\\\n",
      "NNS                  &1          &152        &0          &0.0000     &0.0000     &0.0000    \\\\\n",
      "FW                   &1          &0          &0          &0.0000     &0.0000     &0.0000    \\\\\n",
      "PRP$                 &0          &5          &0          &0.0000     &0.0000     &0.0000    \\\\\n",
      "RBR                  &0          &5          &0          &0.0000     &0.0000     &0.0000    \\\\\n",
      "JJS                  &0          &2          &0          &0.0000     &0.0000     &0.0000    \\\\\n",
      "CD                   &0          &8          &0          &0.0000     &0.0000     &0.0000    \\\\\n",
      "NNPS                 &0          &0          &0          &0.0000     &0.0000     &0.0000    \\\\\n",
      "JJR                  &0          &1          &0          &0.0000     &0.0000     &0.0000    \\\\\n",
      "$                    &0          &0          &0          &0.0000     &0.0000     &0.0000    \\\\\n",
      "PDT                  &0          &1          &0          &0.0000     &0.0000     &0.0000    \\\\\n",
      "RBS                  &0          &0          &0          &0.0000     &0.0000     &0.0000    \\\\\n",
      "\n",
      "turku_psd_open\n",
      "--------------------------------------\n",
      "Type                 precision            recall               f-score             \n",
      "Unlabeled            0.8934              & 0.8373              & 0.8644              \n",
      "Labeled              0.7610              & 0.7132              & 0.7363              \n",
      "\n",
      "Pos/Frame            &Gold       &Test       &Match      &Precision  &Recall     &F-score   \\\\\n",
      "IN                   &3119       &3145       &3109       &0.9886     &0.9968     &0.9927    \\\\\n",
      "DT                   &2448       &2458       &2439       &0.9923     &0.9963     &0.9943    \\\\\n",
      ",                    &1482       &1488       &1481       &0.9953     &0.9993     &0.9973    \\\\\n",
      ".                    &1403       &1403       &1403       &1.0000     &1.0000     &1.0000    \\\\\n",
      "TO                   &681        &683        &678        &0.9927     &0.9956     &0.9941    \\\\\n",
      "MD                   &341        &341        &341        &1.0000     &1.0000     &1.0000    \\\\\n",
      "``                   &318        &318        &318        &1.0000     &1.0000     &1.0000    \\\\\n",
      "''                   &313        &312        &312        &1.0000     &0.9968     &0.9984    \\\\\n",
      "POS                  &282        &281        &281        &1.0000     &0.9965     &0.9982    \\\\\n",
      "VBZ                  &205        &204        &196        &0.9608     &0.9561     &0.9584    \\\\\n",
      "VBD                  &177        &169        &164        &0.9704     &0.9266     &0.9480    \\\\\n",
      "VBP                  &149        &144        &141        &0.9792     &0.9463     &0.9625    \\\\\n",
      "RP                   &110        &118        &110        &0.9322     &1.0000     &0.9649    \\\\\n",
      "VB                   &108        &103        &101        &0.9806     &0.9352     &0.9573    \\\\\n",
      "RB                   &106        &258        &83         &0.3217     &0.7830     &0.4560    \\\\\n",
      ":                    &55         &58         &55         &0.9483     &1.0000     &0.9735    \\\\\n",
      "VBG                  &49         &49         &41         &0.8367     &0.8367     &0.8367    \\\\\n",
      "VBN                  &49         &47         &42         &0.8936     &0.8571     &0.8750    \\\\\n",
      "EX                   &35         &35         &35         &1.0000     &1.0000     &1.0000    \\\\\n",
      "PRP                  &32         &45         &29         &0.6444     &0.9062     &0.7532    \\\\\n",
      "WRB                  &32         &40         &26         &0.6500     &0.8125     &0.7222    \\\\\n",
      "-RRB-                &20         &21         &20         &0.9524     &1.0000     &0.9756    \\\\\n",
      "-LRB-                &19         &19         &19         &1.0000     &1.0000     &1.0000    \\\\\n",
      "JJ                   &18         &42         &13         &0.3095     &0.7222     &0.4333    \\\\\n",
      "RBR                  &17         &25         &16         &0.6400     &0.9412     &0.7619    \\\\\n",
      "NN                   &9          &149        &4          &0.0268     &0.4444     &0.0506    \\\\\n",
      "RBS                  &8          &9          &8          &0.8889     &1.0000     &0.9412    \\\\\n",
      "CC                   &7          &15         &4          &0.2667     &0.5714     &0.3636    \\\\\n",
      "NNP                  &3          &109        &3          &0.0275     &1.0000     &0.0536    \\\\\n",
      "NNS                  &2          &35         &1          &0.0286     &0.5000     &0.0541    \\\\\n",
      "WP                   &1          &5          &1          &0.2000     &1.0000     &0.3333    \\\\\n",
      "WDT                  &1          &5          &0          &0.0000     &0.0000     &0.0000    \\\\\n",
      "FW                   &1          &2          &0          &0.0000     &0.0000     &0.0000    \\\\\n",
      "PRP$                 &0          &4          &0          &0.0000     &0.0000     &0.0000    \\\\\n",
      "JJS                  &0          &2          &0          &0.0000     &0.0000     &0.0000    \\\\\n",
      "CD                   &0          &28         &0          &0.0000     &0.0000     &0.0000    \\\\\n",
      "NNPS                 &0          &0          &0          &0.0000     &0.0000     &0.0000    \\\\\n",
      "JJR                  &0          &1          &0          &0.0000     &0.0000     &0.0000    \\\\\n",
      "UH                   &0          &3          &0          &0.0000     &0.0000     &0.0000    \\\\\n",
      "$                    &0          &0          &0          &0.0000     &0.0000     &0.0000    \\\\\n",
      "WP$                  &0          &0          &0          &0.0000     &0.0000     &0.0000    \\\\\n",
      "PDT                  &0          &0          &0          &0.0000     &0.0000     &0.0000    \\\\\n"
     ]
    }
   ],
   "source": [
    "sort = 1\n",
    "\n",
    "full_analysis(d.dm, d.turku_dm_open, 'turku_dm_open')\n",
    "turku_singletons_pos_dm = singletons_pos_frame(d.dm, d.turku_dm_open, pos=d.dm_pos, sort=sort)\n",
    "print()\n",
    "full_analysis(d.psd, d.turku_psd_open, 'turku_psd_open')\n",
    "turku_singletons_pos_psd = singletons_pos_frame(d.psd, d.turku_psd_open, pos=d.psd_pos, sort=sort)"
   ]
  },
  {
   "cell_type": "code",
   "execution_count": 13,
   "metadata": {
    "collapsed": true
   },
   "outputs": [],
   "source": [
    "import pygal"
   ]
  },
  {
   "cell_type": "code",
   "execution_count": 79,
   "metadata": {
    "collapsed": true
   },
   "outputs": [],
   "source": [
    "def singletons_graph(data, name, f, to):\n",
    "    chart = pygal.Line(logarithmic=True)\n",
    "    chart.x_labels = [a[0] for a in data][f:to]\n",
    "    chart.title = 'Singletons {}'.format(name)\n",
    "    \n",
    "    chart.add('Gold', [a[1] for a in data][f:to])\n",
    "    chart.add('Predicted', [a[2] for a in data][f:to])\n",
    "    chart.add('Match', [a[3] for a in data][f:to])\n",
    "    \n",
    "    chart.render_to_file('plots/singletons/singletons_match_{}.svg'.format(name.replace(' ', '_').lower()))"
   ]
  },
  {
   "cell_type": "code",
   "execution_count": 80,
   "metadata": {
    "collapsed": false
   },
   "outputs": [],
   "source": [
    "singletons_graph(lisbon_singletons_pos_dm, 'Lisbon DM', 0, 20)\n",
    "singletons_graph(lisbon_singletons_pos_psd, 'Lisbon PSD', 0, 20)"
   ]
  },
  {
   "cell_type": "code",
   "execution_count": 81,
   "metadata": {
    "collapsed": false
   },
   "outputs": [],
   "source": [
    "singletons_graph(turku_singletons_pos_dm, 'Turku DM', 0, 20)\n",
    "singletons_graph(turku_singletons_pos_psd, 'Turku PSD', 0, 20)"
   ]
  },
  {
   "cell_type": "code",
   "execution_count": 82,
   "metadata": {
    "collapsed": true
   },
   "outputs": [],
   "source": [
    "singletons_graph(peking_singletons_pos_dm, 'Peking DM', 0, 20)\n",
    "singletons_graph(peking_singletons_pos_psd, 'Peking PSD', 0, 20)"
   ]
  },
  {
   "cell_type": "code",
   "execution_count": 83,
   "metadata": {
    "collapsed": true
   },
   "outputs": [],
   "source": [
    "def singletons_graph_score(data, name, f, to):\n",
    "    chart = pygal.Line(logarithmic=True)\n",
    "    chart.x_labels = [a[0] for a in data][f:to]\n",
    "    chart.title = 'Singletons {}'.format(name)\n",
    "    \n",
    "    chart.add('Precision', [a[4] for a in data][f:to])\n",
    "    chart.add('Recall', [a[5] for a in data][f:to])\n",
    "    chart.add('F-score', [a[6] for a in data][f:to])\n",
    "    \n",
    "    chart.render_to_file('plots/singletons/singletons_score_{}.svg'.format(name.replace(' ', '_').lower()))"
   ]
  },
  {
   "cell_type": "code",
   "execution_count": 84,
   "metadata": {
    "collapsed": true
   },
   "outputs": [],
   "source": [
    "singletons_graph_score(lisbon_singletons_pos_dm, 'Lisbon DM', 0, 20)\n",
    "singletons_graph_score(lisbon_singletons_pos_psd, 'Lisbon PSD', 0, 20)"
   ]
  },
  {
   "cell_type": "code",
   "execution_count": 85,
   "metadata": {
    "collapsed": true
   },
   "outputs": [],
   "source": [
    "singletons_graph_score(turku_singletons_pos_dm, 'Turku DM', 0, 20)\n",
    "singletons_graph_score(turku_singletons_pos_psd, 'Turku PSD', 0, 20)"
   ]
  },
  {
   "cell_type": "code",
   "execution_count": 86,
   "metadata": {
    "collapsed": true
   },
   "outputs": [],
   "source": [
    "singletons_graph_score(peking_singletons_pos_dm, 'Peking DM', 0, 20)\n",
    "singletons_graph_score(peking_singletons_pos_psd, 'Peking PSD', 0, 20)"
   ]
  }
 ],
 "metadata": {
  "anaconda-cloud": {},
  "kernelspec": {
   "display_name": "ml",
   "language": "python",
   "name": "ml"
  },
  "language_info": {
   "codemirror_mode": {
    "name": "ipython",
    "version": 3
   },
   "file_extension": ".py",
   "mimetype": "text/x-python",
   "name": "python",
   "nbconvert_exporter": "python",
   "pygments_lexer": "ipython3",
   "version": "3.5.2"
  }
 },
 "nbformat": 4,
 "nbformat_minor": 0
}
